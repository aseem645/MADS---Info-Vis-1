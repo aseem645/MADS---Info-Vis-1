{
 "cells": [
  {
   "cell_type": "markdown",
   "metadata": {},
   "source": [
    "Before you turn this problem in, make sure everything runs as expected. First, **restart the kernel** (in the menubar, select Kernel$\\rightarrow$Restart) and then **run all cells** (in the menubar, select Cell$\\rightarrow$Run All).\n",
    "\n",
    "Make sure you fill in any place that says `YOUR CODE HERE` or \"YOUR ANSWER HERE\", as well as your name and collaborators below:"
   ]
  },
  {
   "cell_type": "code",
   "execution_count": 1,
   "metadata": {},
   "outputs": [],
   "source": [
    "NAME = \"Aseem Sachdeva\""
   ]
  },
  {
   "cell_type": "markdown",
   "metadata": {},
   "source": [
    "---"
   ]
  },
  {
   "cell_type": "markdown",
   "metadata": {},
   "source": [
    "# Information Visualization I \n",
    "## School of Information, University of Michigan\n",
    "\n",
    "## Week 2: \n",
    "- Expressiveness and Effectiveness\n",
    "- Grammar of Graphics\n",
    "\n",
    "## Assignment Overview\n",
    "### Our objectives for this week:\n",
    "\n",
    "- Review, reflect, and apply the concepts of encoding. Given a visualization recreate the data that was encoded.\n",
    "- Review, reflect, and apply the concepts of Expressiveness and Effectiveness. Given a visualization, evaluate alternatives with the same expressiveness.\n",
    "\n",
    "<img src=\"assets/data-table.png\" alt=\"Drawing\" style=\"width: 500px;\"/>\n",
    "<p style=\"text-align: center;\">Two visualizations, same expressiveness </p>\n",
    "\n",
    "- Review and evaluate an implementation of Grammar of Graphics using [Altair](https://altair-viz.github.io/) \n",
    "\n",
    "### The total score of this assignment will be 100 points consisting of:\n",
    "- Case study reflection: Next Bechdel Test (30 points)\n",
    "- Altair programming exercise (70 points)\n",
    "- Bonus (5 points)\n",
    "\n",
    "\n",
    "### Resources:\n",
    "- This article by [FiveThirtyEight](https://fivethirtyeight.com) available [online](https://projects.fivethirtyeight.com/next-bechdel/) (Hickey, Koeze, Dottle, Wezerek 2017)  \n",
    "- Datasets from FiveThirtyEight, we have downloaded a subset of these datasets available in the folder for your use into [./assets](./assets)\n",
    "    - The original dataset can be found on [FiveThirtyEight Next Bechdel Dataset](https://github.com/fivethirtyeight/data/tree/master/next-bechdel)"
   ]
  },
  {
   "cell_type": "markdown",
   "metadata": {},
   "source": [
    "## Part 1. Expressiveness and Effectiveness (30 points)\n",
    "Read the following article [*Creating the next Bechdel Test*](https://projects.fivethirtyeight.com/next-bechdel/) and answer the following questions:\n"
   ]
  },
  {
   "cell_type": "markdown",
   "metadata": {},
   "source": [
    "### 1.1 Recreate the table (by hand or excel) needed to create the following visualization (7 points)\n",
    "Take a picture or screenshot of your table and add it to the answer below\n",
    "<img src=\"assets/article_1.png\" alt=\"Drawing\" style=\"width: 500px;\"/>\n",
    "\n",
    "\n",
    "An easy way to upload images is to jump into the [./assets](./assets) directory (or use the Coursera notebook explorer and navigate to it) and then use the upload button to save your image:\n",
    "\n",
    "![upload](assets/upload.png)\n",
    "\n",
    "Once you have the image, you can link to it using the markdown command: `![answer1.2](assets/my_image_1.2.png)`"
   ]
  },
  {
   "cell_type": "markdown",
   "metadata": {
    "deletable": false,
    "nbgrader": {
     "checksum": "91ea6cc6efb45e855a4f141dab85c3a3",
     "grade": true,
     "grade_id": "cell-20290d73f12b3f9f",
     "locked": false,
     "points": 0,
     "schema_version": 1,
     "solution": true
    }
   },
   "source": [
    "\n",
    "\n",
    "![answer1.1](tablesketch.png)\n"
   ]
  },
  {
   "cell_type": "markdown",
   "metadata": {},
   "source": [
    "### 1.2 Sketch an alternative visualization with the same expressiveness (7 points)\n",
    "By hand is fine, but you can also use a tool. This is a sketch, the data need not be perfectly accurate or to scale. Again, upload a picture or screenshot below. Make sure there is enough annotation so it's clear why your picture has the same expressiveness."
   ]
  },
  {
   "cell_type": "markdown",
   "metadata": {
    "deletable": false,
    "nbgrader": {
     "checksum": "c2bd64e98ff1e94679857bbae395f3f8",
     "grade": true,
     "grade_id": "cell-818150fc326a93bd",
     "locked": false,
     "points": 0,
     "schema_version": 1,
     "solution": true
    }
   },
   "source": [
    "![answer1.2](1.2.PNG)\n"
   ]
  },
  {
   "cell_type": "markdown",
   "metadata": {},
   "source": [
    "### 1.3 Sketch an alternative visualization with the same expressiveness of the following visualization (10 points)\n",
    "\n",
    "<img src=\"assets/article_2.png\" alt=\"Drawing\" style=\"width: 500px;\"/>\n",
    "\n",
    "Same deal as last question: by hand or with a tool is fine. The data need not be perfectly accurate or to scale. Make sure there is enough annotation so it's clear why your picture has the same expressiveness. Again, upload a picture or screenshot below. "
   ]
  },
  {
   "cell_type": "markdown",
   "metadata": {
    "deletable": false,
    "nbgrader": {
     "checksum": "ad987ed052e361e442f1355c036285da",
     "grade": true,
     "grade_id": "cell-308f4bbbe330bcc3",
     "locked": false,
     "points": 0,
     "schema_version": 1,
     "solution": true
    }
   },
   "source": [
    "![answer1.3](1.3.PNG)"
   ]
  },
  {
   "cell_type": "markdown",
   "metadata": {},
   "source": [
    "### 1.4 Reflect on which visualization you think is more *effective* and why? (6 points)\n"
   ]
  },
  {
   "cell_type": "markdown",
   "metadata": {
    "deletable": false,
    "nbgrader": {
     "checksum": "404c7b60173ff29336f18e5c0f678090",
     "grade": true,
     "grade_id": "cell-53c80be72ac1b53e",
     "locked": false,
     "points": 0,
     "schema_version": 1,
     "solution": true
    }
   },
   "source": [
    "The above vizualization published by 538, and my hand drawn rough sketch, in general, express the same information - namely, whether a certain movie passed one of the various test varieties discussed in the article, while also encoding the bars by individual test creator in order to convey whether or not the film passed their specific version of the test, as 538's visualization also conveys. However, I can certainly say that the visualization published by 538 is inconvtrovertibly more effective than my rough version, in the sense that it is capable of displaying a much larger array of films within its limited space. Furthermore, it is much easier to decipher the encoding of 538's visualization. Blank squares can be disregarded entirely, and there is no need to display the name of each test creator, because their visages are embedded directly within the visualization. In the case of my own sketch, it would arguably take the viewer a few extra "
   ]
  },
  {
   "cell_type": "markdown",
   "metadata": {},
   "source": [
    "## Part 2. Altair programming exercise (70 points)\n",
    "We have provided some code to create visualizations based on the following datasets:\n",
    "\n",
    "1. [all_tests](assets/nextBechdel_allTests.csv) Is a collection of different Bechdel test results for the 50 top-grossing films [at the domestic box office in 2016](https://www.the-numbers.com/box-office-records/domestic/all-movies/cumulative/released-in-2016)\n",
    "2. [cast_gender](assets/nextBechdel_castGender.csv) Is the gender for all the cast member of each movie in the Bechdel rankings\n",
    "3. [top_2016](assets/top_2016.csv) Is the date, box office and theater count for each top 2016 movie.\n",
    "\n",
    "Complete each assignment function and run each cell to generate the final visualizations\n"
   ]
  },
  {
   "cell_type": "code",
   "execution_count": 69,
   "metadata": {},
   "outputs": [],
   "source": [
    "import pandas as pd\n",
    "import numpy as np\n",
    "import altair as alt\n",
    "\n",
    "pd.set_option('display.max_columns', None)\n",
    "pd.set_option('display.max_rows', None)"
   ]
  },
  {
   "cell_type": "code",
   "execution_count": 18,
   "metadata": {},
   "outputs": [
    {
     "data": {
      "text/plain": [
       "RendererRegistry.enable('default')"
      ]
     },
     "execution_count": 18,
     "metadata": {},
     "output_type": "execute_result"
    }
   ],
   "source": [
    "# enable correct rendering\n",
    "alt.renderers.enable('default')"
   ]
  },
  {
   "cell_type": "code",
   "execution_count": 19,
   "metadata": {},
   "outputs": [
    {
     "data": {
      "text/plain": [
       "DataTransformerRegistry.enable('json')"
      ]
     },
     "execution_count": 19,
     "metadata": {},
     "output_type": "execute_result"
    }
   ],
   "source": [
    "# uses intermediate json files to speed things up\n",
    "alt.data_transformers.enable('json')"
   ]
  },
  {
   "cell_type": "code",
   "execution_count": 20,
   "metadata": {},
   "outputs": [],
   "source": [
    "# read all the tables\n",
    "all_tests_df = pd.read_csv('assets/nextBechdel_allTests.csv')\n",
    "cast_gender = pd.read_csv('assets/nextBechdel_castGender.csv')\n",
    "top_2016 = pd.read_csv('assets/top_2016.csv')"
   ]
  },
  {
   "cell_type": "code",
   "execution_count": 21,
   "metadata": {},
   "outputs": [],
   "source": [
    "# set up the tables for use\n",
    "actors_movies = top_2016.set_index('Movie').join(cast_gender.set_index('MOVIE')).join(all_tests_df.set_index('movie')).reset_index().dropna()\n",
    "movies_order = top_2016.sort_values(by=['Rank'])['Movie'].tolist()"
   ]
  },
  {
   "cell_type": "markdown",
   "metadata": {},
   "source": [
    "### 2.1 Variables encoded (5 points)\n",
    "Warmup: complete the `variables_encoded` function.\n",
    "Return the number of variables encoded in the following example"
   ]
  },
  {
   "cell_type": "code",
   "execution_count": 22,
   "metadata": {},
   "outputs": [],
   "source": [
    "base = alt.Chart(actors_movies).transform_filter(\n",
    "    (alt.datum.TYPE != 'Unknown') & (alt.datum.GENDER != 'Unknown') & (alt.datum.GENDER != 'null')\n",
    ")"
   ]
  },
  {
   "cell_type": "code",
   "execution_count": 70,
   "metadata": {},
   "outputs": [
    {
     "data": {
      "text/html": [
       "<div>\n",
       "<style scoped>\n",
       "    .dataframe tbody tr th:only-of-type {\n",
       "        vertical-align: middle;\n",
       "    }\n",
       "\n",
       "    .dataframe tbody tr th {\n",
       "        vertical-align: top;\n",
       "    }\n",
       "\n",
       "    .dataframe thead th {\n",
       "        text-align: right;\n",
       "    }\n",
       "</style>\n",
       "<table border=\"1\" class=\"dataframe\">\n",
       "  <thead>\n",
       "    <tr style=\"text-align: right;\">\n",
       "      <th></th>\n",
       "      <th>index</th>\n",
       "      <th>Rank</th>\n",
       "      <th>Domestic Box Office</th>\n",
       "      <th>Opening Theater Count</th>\n",
       "      <th>Opening Weekend Box Office</th>\n",
       "      <th>Max Theater Count</th>\n",
       "      <th>ACTOR</th>\n",
       "      <th>CHARACTER_NAME</th>\n",
       "      <th>TYPE</th>\n",
       "      <th>BILLING</th>\n",
       "      <th>GENDER</th>\n",
       "      <th>bechdel</th>\n",
       "      <th>peirce</th>\n",
       "      <th>landau</th>\n",
       "      <th>feldman</th>\n",
       "      <th>villareal</th>\n",
       "      <th>hagen</th>\n",
       "      <th>ko</th>\n",
       "      <th>villarobos</th>\n",
       "      <th>waithe</th>\n",
       "      <th>koeze_dottle</th>\n",
       "      <th>uphold</th>\n",
       "      <th>white</th>\n",
       "      <th>rees-davies</th>\n",
       "    </tr>\n",
       "  </thead>\n",
       "  <tbody>\n",
       "    <tr>\n",
       "      <th>0</th>\n",
       "      <td>10 Cloverfield Lane</td>\n",
       "      <td>44</td>\n",
       "      <td>$72,082,999</td>\n",
       "      <td>3,391</td>\n",
       "      <td>$24,727,437</td>\n",
       "      <td>3,427</td>\n",
       "      <td>John Goodman</td>\n",
       "      <td>Howard</td>\n",
       "      <td>Leading</td>\n",
       "      <td>1</td>\n",
       "      <td>Male</td>\n",
       "      <td>0</td>\n",
       "      <td>0</td>\n",
       "      <td>1</td>\n",
       "      <td>1</td>\n",
       "      <td>0</td>\n",
       "      <td>1</td>\n",
       "      <td>1</td>\n",
       "      <td>1</td>\n",
       "      <td>1</td>\n",
       "      <td>1</td>\n",
       "      <td>1</td>\n",
       "      <td>1</td>\n",
       "      <td>1</td>\n",
       "    </tr>\n",
       "    <tr>\n",
       "      <th>1</th>\n",
       "      <td>10 Cloverfield Lane</td>\n",
       "      <td>44</td>\n",
       "      <td>$72,082,999</td>\n",
       "      <td>3,391</td>\n",
       "      <td>$24,727,437</td>\n",
       "      <td>3,427</td>\n",
       "      <td>Mary Elizabeth Winstead</td>\n",
       "      <td>Michelle</td>\n",
       "      <td>Leading</td>\n",
       "      <td>2</td>\n",
       "      <td>Female</td>\n",
       "      <td>0</td>\n",
       "      <td>0</td>\n",
       "      <td>1</td>\n",
       "      <td>1</td>\n",
       "      <td>0</td>\n",
       "      <td>1</td>\n",
       "      <td>1</td>\n",
       "      <td>1</td>\n",
       "      <td>1</td>\n",
       "      <td>1</td>\n",
       "      <td>1</td>\n",
       "      <td>1</td>\n",
       "      <td>1</td>\n",
       "    </tr>\n",
       "    <tr>\n",
       "      <th>2</th>\n",
       "      <td>10 Cloverfield Lane</td>\n",
       "      <td>44</td>\n",
       "      <td>$72,082,999</td>\n",
       "      <td>3,391</td>\n",
       "      <td>$24,727,437</td>\n",
       "      <td>3,427</td>\n",
       "      <td>John Gallagher, Jr.</td>\n",
       "      <td>Emmitt</td>\n",
       "      <td>Leading</td>\n",
       "      <td>3</td>\n",
       "      <td>Male</td>\n",
       "      <td>0</td>\n",
       "      <td>0</td>\n",
       "      <td>1</td>\n",
       "      <td>1</td>\n",
       "      <td>0</td>\n",
       "      <td>1</td>\n",
       "      <td>1</td>\n",
       "      <td>1</td>\n",
       "      <td>1</td>\n",
       "      <td>1</td>\n",
       "      <td>1</td>\n",
       "      <td>1</td>\n",
       "      <td>1</td>\n",
       "    </tr>\n",
       "    <tr>\n",
       "      <th>3</th>\n",
       "      <td>10 Cloverfield Lane</td>\n",
       "      <td>44</td>\n",
       "      <td>$72,082,999</td>\n",
       "      <td>3,391</td>\n",
       "      <td>$24,727,437</td>\n",
       "      <td>3,427</td>\n",
       "      <td>Mat Vairo</td>\n",
       "      <td>Jeremy</td>\n",
       "      <td>Supporting</td>\n",
       "      <td>4</td>\n",
       "      <td>Male</td>\n",
       "      <td>0</td>\n",
       "      <td>0</td>\n",
       "      <td>1</td>\n",
       "      <td>1</td>\n",
       "      <td>0</td>\n",
       "      <td>1</td>\n",
       "      <td>1</td>\n",
       "      <td>1</td>\n",
       "      <td>1</td>\n",
       "      <td>1</td>\n",
       "      <td>1</td>\n",
       "      <td>1</td>\n",
       "      <td>1</td>\n",
       "    </tr>\n",
       "    <tr>\n",
       "      <th>4</th>\n",
       "      <td>10 Cloverfield Lane</td>\n",
       "      <td>44</td>\n",
       "      <td>$72,082,999</td>\n",
       "      <td>3,391</td>\n",
       "      <td>$24,727,437</td>\n",
       "      <td>3,427</td>\n",
       "      <td>Maya Erskine</td>\n",
       "      <td>Darcy</td>\n",
       "      <td>Supporting</td>\n",
       "      <td>5</td>\n",
       "      <td>Female</td>\n",
       "      <td>0</td>\n",
       "      <td>0</td>\n",
       "      <td>1</td>\n",
       "      <td>1</td>\n",
       "      <td>0</td>\n",
       "      <td>1</td>\n",
       "      <td>1</td>\n",
       "      <td>1</td>\n",
       "      <td>1</td>\n",
       "      <td>1</td>\n",
       "      <td>1</td>\n",
       "      <td>1</td>\n",
       "      <td>1</td>\n",
       "    </tr>\n",
       "    <tr>\n",
       "      <th>5</th>\n",
       "      <td>10 Cloverfield Lane</td>\n",
       "      <td>44</td>\n",
       "      <td>$72,082,999</td>\n",
       "      <td>3,391</td>\n",
       "      <td>$24,727,437</td>\n",
       "      <td>3,427</td>\n",
       "      <td>Cindy Hogan</td>\n",
       "      <td>Neighbor Woman</td>\n",
       "      <td>Supporting</td>\n",
       "      <td>6</td>\n",
       "      <td>Female</td>\n",
       "      <td>0</td>\n",
       "      <td>0</td>\n",
       "      <td>1</td>\n",
       "      <td>1</td>\n",
       "      <td>0</td>\n",
       "      <td>1</td>\n",
       "      <td>1</td>\n",
       "      <td>1</td>\n",
       "      <td>1</td>\n",
       "      <td>1</td>\n",
       "      <td>1</td>\n",
       "      <td>1</td>\n",
       "      <td>1</td>\n",
       "    </tr>\n",
       "    <tr>\n",
       "      <th>6</th>\n",
       "      <td>10 Cloverfield Lane</td>\n",
       "      <td>44</td>\n",
       "      <td>$72,082,999</td>\n",
       "      <td>3,391</td>\n",
       "      <td>$24,727,437</td>\n",
       "      <td>3,427</td>\n",
       "      <td>Douglas M. Griffin</td>\n",
       "      <td>Driver</td>\n",
       "      <td>Supporting</td>\n",
       "      <td>7</td>\n",
       "      <td>Male</td>\n",
       "      <td>0</td>\n",
       "      <td>0</td>\n",
       "      <td>1</td>\n",
       "      <td>1</td>\n",
       "      <td>0</td>\n",
       "      <td>1</td>\n",
       "      <td>1</td>\n",
       "      <td>1</td>\n",
       "      <td>1</td>\n",
       "      <td>1</td>\n",
       "      <td>1</td>\n",
       "      <td>1</td>\n",
       "      <td>1</td>\n",
       "    </tr>\n",
       "    <tr>\n",
       "      <th>7</th>\n",
       "      <td>10 Cloverfield Lane</td>\n",
       "      <td>44</td>\n",
       "      <td>$72,082,999</td>\n",
       "      <td>3,391</td>\n",
       "      <td>$24,727,437</td>\n",
       "      <td>3,427</td>\n",
       "      <td>Jamie Clay</td>\n",
       "      <td>State Trooper 42</td>\n",
       "      <td>Supporting</td>\n",
       "      <td>8</td>\n",
       "      <td>Unknown</td>\n",
       "      <td>0</td>\n",
       "      <td>0</td>\n",
       "      <td>1</td>\n",
       "      <td>1</td>\n",
       "      <td>0</td>\n",
       "      <td>1</td>\n",
       "      <td>1</td>\n",
       "      <td>1</td>\n",
       "      <td>1</td>\n",
       "      <td>1</td>\n",
       "      <td>1</td>\n",
       "      <td>1</td>\n",
       "      <td>1</td>\n",
       "    </tr>\n",
       "    <tr>\n",
       "      <th>8</th>\n",
       "      <td>10 Cloverfield Lane</td>\n",
       "      <td>44</td>\n",
       "      <td>$72,082,999</td>\n",
       "      <td>3,391</td>\n",
       "      <td>$24,727,437</td>\n",
       "      <td>3,427</td>\n",
       "      <td>Sumalee Montano</td>\n",
       "      <td>Voice on Radio</td>\n",
       "      <td>Supporting</td>\n",
       "      <td>9</td>\n",
       "      <td>Unknown</td>\n",
       "      <td>0</td>\n",
       "      <td>0</td>\n",
       "      <td>1</td>\n",
       "      <td>1</td>\n",
       "      <td>0</td>\n",
       "      <td>1</td>\n",
       "      <td>1</td>\n",
       "      <td>1</td>\n",
       "      <td>1</td>\n",
       "      <td>1</td>\n",
       "      <td>1</td>\n",
       "      <td>1</td>\n",
       "      <td>1</td>\n",
       "    </tr>\n",
       "    <tr>\n",
       "      <th>9</th>\n",
       "      <td>10 Cloverfield Lane</td>\n",
       "      <td>44</td>\n",
       "      <td>$72,082,999</td>\n",
       "      <td>3,391</td>\n",
       "      <td>$24,727,437</td>\n",
       "      <td>3,427</td>\n",
       "      <td>Frank Mottek</td>\n",
       "      <td>Radio Broadcaster</td>\n",
       "      <td>Supporting</td>\n",
       "      <td>10</td>\n",
       "      <td>Male</td>\n",
       "      <td>0</td>\n",
       "      <td>0</td>\n",
       "      <td>1</td>\n",
       "      <td>1</td>\n",
       "      <td>0</td>\n",
       "      <td>1</td>\n",
       "      <td>1</td>\n",
       "      <td>1</td>\n",
       "      <td>1</td>\n",
       "      <td>1</td>\n",
       "      <td>1</td>\n",
       "      <td>1</td>\n",
       "      <td>1</td>\n",
       "    </tr>\n",
       "  </tbody>\n",
       "</table>\n",
       "</div>"
      ],
      "text/plain": [
       "                 index  Rank Domestic Box Office Opening Theater Count  \\\n",
       "0  10 Cloverfield Lane    44        $72,082,999                  3,391   \n",
       "1  10 Cloverfield Lane    44        $72,082,999                  3,391   \n",
       "2  10 Cloverfield Lane    44        $72,082,999                  3,391   \n",
       "3  10 Cloverfield Lane    44        $72,082,999                  3,391   \n",
       "4  10 Cloverfield Lane    44        $72,082,999                  3,391   \n",
       "5  10 Cloverfield Lane    44        $72,082,999                  3,391   \n",
       "6  10 Cloverfield Lane    44        $72,082,999                  3,391   \n",
       "7  10 Cloverfield Lane    44        $72,082,999                  3,391   \n",
       "8  10 Cloverfield Lane    44        $72,082,999                  3,391   \n",
       "9  10 Cloverfield Lane    44        $72,082,999                  3,391   \n",
       "\n",
       "  Opening Weekend Box Office Max Theater Count                    ACTOR  \\\n",
       "0               $24,727,437              3,427             John Goodman   \n",
       "1               $24,727,437              3,427  Mary Elizabeth Winstead   \n",
       "2               $24,727,437              3,427      John Gallagher, Jr.   \n",
       "3               $24,727,437              3,427                Mat Vairo   \n",
       "4               $24,727,437              3,427             Maya Erskine   \n",
       "5               $24,727,437              3,427              Cindy Hogan   \n",
       "6               $24,727,437              3,427       Douglas M. Griffin   \n",
       "7               $24,727,437              3,427               Jamie Clay   \n",
       "8               $24,727,437              3,427          Sumalee Montano   \n",
       "9               $24,727,437              3,427             Frank Mottek   \n",
       "\n",
       "      CHARACTER_NAME        TYPE BILLING   GENDER  bechdel  peirce  landau  \\\n",
       "0             Howard     Leading       1     Male        0       0       1   \n",
       "1           Michelle     Leading       2   Female        0       0       1   \n",
       "2             Emmitt     Leading       3     Male        0       0       1   \n",
       "3             Jeremy  Supporting       4     Male        0       0       1   \n",
       "4              Darcy  Supporting       5   Female        0       0       1   \n",
       "5     Neighbor Woman  Supporting       6   Female        0       0       1   \n",
       "6             Driver  Supporting       7     Male        0       0       1   \n",
       "7   State Trooper 42  Supporting       8  Unknown        0       0       1   \n",
       "8     Voice on Radio  Supporting       9  Unknown        0       0       1   \n",
       "9  Radio Broadcaster  Supporting      10     Male        0       0       1   \n",
       "\n",
       "   feldman  villareal  hagen  ko  villarobos  waithe  koeze_dottle  uphold  \\\n",
       "0        1          0      1   1           1       1             1       1   \n",
       "1        1          0      1   1           1       1             1       1   \n",
       "2        1          0      1   1           1       1             1       1   \n",
       "3        1          0      1   1           1       1             1       1   \n",
       "4        1          0      1   1           1       1             1       1   \n",
       "5        1          0      1   1           1       1             1       1   \n",
       "6        1          0      1   1           1       1             1       1   \n",
       "7        1          0      1   1           1       1             1       1   \n",
       "8        1          0      1   1           1       1             1       1   \n",
       "9        1          0      1   1           1       1             1       1   \n",
       "\n",
       "   white  rees-davies  \n",
       "0      1            1  \n",
       "1      1            1  \n",
       "2      1            1  \n",
       "3      1            1  \n",
       "4      1            1  \n",
       "5      1            1  \n",
       "6      1            1  \n",
       "7      1            1  \n",
       "8      1            1  \n",
       "9      1            1  "
      ]
     },
     "execution_count": 70,
     "metadata": {},
     "output_type": "execute_result"
    }
   ],
   "source": [
    "actors_movies.head(10)"
   ]
  },
  {
   "cell_type": "code",
   "execution_count": 23,
   "metadata": {},
   "outputs": [],
   "source": [
    "encoding = base.transform_filter(\n",
    "    alt.datum.GENDER == 'Female'\n",
    ").encode(\n",
    "    y= alt.Y(\n",
    "        'index:N',\n",
    "        sort= movies_order\n",
    "    ),\n",
    "    x=alt.X('count(index):Q',\n",
    "            title='cast count'),\n",
    ")\n",
    "\n",
    "def m_bar():\n",
    "    return encoding.mark_bar().properties(title='Female')\n",
    "\n",
    "bar = m_bar()"
   ]
  },
  {
   "cell_type": "code",
   "execution_count": 24,
   "metadata": {},
   "outputs": [
    {
     "data": {
      "text/html": [
       "\n",
       "<div id=\"altair-viz-6bf4252884fb4a6d88cec635a6477c28\"></div>\n",
       "<script type=\"text/javascript\">\n",
       "  (function(spec, embedOpt){\n",
       "    const outputDiv = document.getElementById(\"altair-viz-6bf4252884fb4a6d88cec635a6477c28\");\n",
       "    const paths = {\n",
       "      \"vega\": \"https://cdn.jsdelivr.net/npm//vega@5?noext\",\n",
       "      \"vega-lib\": \"https://cdn.jsdelivr.net/npm//vega-lib?noext\",\n",
       "      \"vega-lite\": \"https://cdn.jsdelivr.net/npm//vega-lite@4.0.2?noext\",\n",
       "      \"vega-embed\": \"https://cdn.jsdelivr.net/npm//vega-embed@6?noext\",\n",
       "    };\n",
       "\n",
       "    function loadScript(lib) {\n",
       "      return new Promise(function(resolve, reject) {\n",
       "        var s = document.createElement('script');\n",
       "        s.src = paths[lib];\n",
       "        s.async = true;\n",
       "        s.onload = () => resolve(paths[lib]);\n",
       "        s.onerror = () => reject(`Error loading script: ${paths[lib]}`);\n",
       "        document.getElementsByTagName(\"head\")[0].appendChild(s);\n",
       "      });\n",
       "    }\n",
       "\n",
       "    function showError(err) {\n",
       "      outputDiv.innerHTML = `<div class=\"error\" style=\"color:red;\">${err}</div>`;\n",
       "      throw err;\n",
       "    }\n",
       "\n",
       "    function displayChart(vegaEmbed) {\n",
       "      vegaEmbed(outputDiv, spec, embedOpt)\n",
       "        .catch(err => showError(`Javascript Error: ${err.message}<br>This usually means there's a typo in your chart specification. See the javascript console for the full traceback.`));\n",
       "    }\n",
       "\n",
       "    if(typeof define === \"function\" && define.amd) {\n",
       "      requirejs.config({paths});\n",
       "      require([\"vega-embed\"], displayChart, err => showError(`Error loading script: ${err.message}`));\n",
       "    } else if (typeof vegaEmbed === \"function\") {\n",
       "      displayChart(vegaEmbed);\n",
       "    } else {\n",
       "      loadScript(\"vega\")\n",
       "        .then(() => loadScript(\"vega-lite\"))\n",
       "        .then(() => loadScript(\"vega-embed\"))\n",
       "        .catch(showError)\n",
       "        .then(() => displayChart(vegaEmbed));\n",
       "    }\n",
       "  })({\"config\": {\"view\": {\"continuousWidth\": 400, \"continuousHeight\": 300}}, \"data\": {\"url\": \"altair-data-b2fe8fb5616f2f0ec61f01d320bf8001.json\", \"format\": {\"type\": \"json\"}}, \"mark\": \"bar\", \"encoding\": {\"x\": {\"type\": \"quantitative\", \"aggregate\": \"count\", \"field\": \"index\", \"title\": \"cast count\"}, \"y\": {\"type\": \"nominal\", \"field\": \"index\", \"sort\": [\"Rogue One\", \"Finding Dory\", \"Captain America: Civil War\", \"The Secret Life of Pets\", \"The Jungle Book\", \"Deadpool\", \"Zootopia\", \"Batman v Superman: Dawn of Justice\", \"Suicide Squad\", \"Sing\", \"Moana\", \"Fantastic Beasts and Where to Find Them\", \"Doctor Strange\", \"Hidden Figures\", \"Jason Bourne\", \"Star Trek Beyond\", \"X-Men: Apocalypse\", \"Trolls\", \"La La Land\", \"Kung Fu Panda 3\", \"Ghostbusters\", \"Central Intelligence\", \"The Legend of Tarzan\", \"Sully\", \"Bad Moms\", \"The Angry Birds Movie\", \"Independence Day: Resurgence\", \"The Conjuring 2\", \"Arrival\", \"Passengers\", \"Sausage Party\", \"The Magnificent Seven\", \"Ride Along 2\", \"Don't Breathe\", \"Miss Peregrine's Home for Peculiar Children\", \"The Accountant\", \"Teenage Mutant Ninja Turtles: Out of the Shadows\", \"The Purge: Election Year\", \"Alice Through the Looking Glass\", \"Pete's Dragon\", \"The Girl on the Train\", \"Boo! A Madea Halloween\", \"Storks\", \"10 Cloverfield Lane\", \"Lights Out\", \"Hacksaw Ridge\", \"Allegiant\", \"Now You See Me 2\", \"Ice Age: Collision Course\", \"The Boss\"]}}, \"title\": \"Female\", \"transform\": [{\"filter\": \"(((datum.TYPE !== 'Unknown') && (datum.GENDER !== 'Unknown')) && (datum.GENDER !== 'null'))\"}, {\"filter\": \"(datum.GENDER === 'Female')\"}], \"$schema\": \"https://vega.github.io/schema/vega-lite/v4.0.2.json\"}, {\"mode\": \"vega-lite\"});\n",
       "</script>"
      ],
      "text/plain": [
       "alt.Chart(...)"
      ]
     },
     "execution_count": 24,
     "metadata": {},
     "output_type": "execute_result"
    }
   ],
   "source": [
    "bar"
   ]
  },
  {
   "cell_type": "code",
   "execution_count": 71,
   "metadata": {
    "deletable": false,
    "nbgrader": {
     "checksum": "29c1a83d9d996688c2c423cad81dd7ea",
     "grade": false,
     "grade_id": "variables_encoded",
     "locked": false,
     "schema_version": 1,
     "solution": true
    }
   },
   "outputs": [],
   "source": [
    "def variables_encoded():\n",
    "    \"\"\"\n",
    "    This is a helper function for automated grading, just return the number (e.g., 'return 50000;'). You don't\n",
    "    need to do anything fancy here.\n",
    "    \"\"\"\n",
    "    return 2\n",
    "    #raise NotImplementedError()"
   ]
  },
  {
   "cell_type": "code",
   "execution_count": 26,
   "metadata": {
    "deletable": false,
    "editable": false,
    "nbgrader": {
     "checksum": "92bf91827a8977210399a1e86ae1f8b7",
     "grade": true,
     "grade_id": "variables_encoded_test",
     "locked": true,
     "points": 5,
     "schema_version": 1,
     "solution": false
    }
   },
   "outputs": [],
   "source": [
    "#hidden tests are within this cell"
   ]
  },
  {
   "cell_type": "markdown",
   "metadata": {},
   "source": [
    "### 2.2 Alternative encoding (5 points)\n",
    "Complete the `m_circle` function. Change the encoding used in the previous example from a bar to a circle. Your visualization should look like \n",
    "<img src=\"assets/alt_enc_1.png\" alt=\"Drawing\" style=\"width: 500px;\"/>"
   ]
  },
  {
   "cell_type": "code",
   "execution_count": 27,
   "metadata": {
    "deletable": false,
    "nbgrader": {
     "checksum": "201ca1e6fb35a43c20d4a415f857ab24",
     "grade": false,
     "grade_id": "m_circle",
     "locked": false,
     "schema_version": 1,
     "solution": true
    }
   },
   "outputs": [],
   "source": [
    "def m_circle():\n",
    "    \"\"\"\n",
    "    return the call to altair function that uses the circle mark for the variables encoded in the previous example \n",
    "    \"\"\"\n",
    "    # return encoding. (...)\n",
    "    return encoding.mark_circle().properties(title='Female')\n",
    "    #raise NotImplementedError()"
   ]
  },
  {
   "cell_type": "code",
   "execution_count": 28,
   "metadata": {},
   "outputs": [
    {
     "data": {
      "text/html": [
       "\n",
       "<div id=\"altair-viz-fdb9d475e99d46d08643ed045fb1fae1\"></div>\n",
       "<script type=\"text/javascript\">\n",
       "  (function(spec, embedOpt){\n",
       "    const outputDiv = document.getElementById(\"altair-viz-fdb9d475e99d46d08643ed045fb1fae1\");\n",
       "    const paths = {\n",
       "      \"vega\": \"https://cdn.jsdelivr.net/npm//vega@5?noext\",\n",
       "      \"vega-lib\": \"https://cdn.jsdelivr.net/npm//vega-lib?noext\",\n",
       "      \"vega-lite\": \"https://cdn.jsdelivr.net/npm//vega-lite@4.0.2?noext\",\n",
       "      \"vega-embed\": \"https://cdn.jsdelivr.net/npm//vega-embed@6?noext\",\n",
       "    };\n",
       "\n",
       "    function loadScript(lib) {\n",
       "      return new Promise(function(resolve, reject) {\n",
       "        var s = document.createElement('script');\n",
       "        s.src = paths[lib];\n",
       "        s.async = true;\n",
       "        s.onload = () => resolve(paths[lib]);\n",
       "        s.onerror = () => reject(`Error loading script: ${paths[lib]}`);\n",
       "        document.getElementsByTagName(\"head\")[0].appendChild(s);\n",
       "      });\n",
       "    }\n",
       "\n",
       "    function showError(err) {\n",
       "      outputDiv.innerHTML = `<div class=\"error\" style=\"color:red;\">${err}</div>`;\n",
       "      throw err;\n",
       "    }\n",
       "\n",
       "    function displayChart(vegaEmbed) {\n",
       "      vegaEmbed(outputDiv, spec, embedOpt)\n",
       "        .catch(err => showError(`Javascript Error: ${err.message}<br>This usually means there's a typo in your chart specification. See the javascript console for the full traceback.`));\n",
       "    }\n",
       "\n",
       "    if(typeof define === \"function\" && define.amd) {\n",
       "      requirejs.config({paths});\n",
       "      require([\"vega-embed\"], displayChart, err => showError(`Error loading script: ${err.message}`));\n",
       "    } else if (typeof vegaEmbed === \"function\") {\n",
       "      displayChart(vegaEmbed);\n",
       "    } else {\n",
       "      loadScript(\"vega\")\n",
       "        .then(() => loadScript(\"vega-lite\"))\n",
       "        .then(() => loadScript(\"vega-embed\"))\n",
       "        .catch(showError)\n",
       "        .then(() => displayChart(vegaEmbed));\n",
       "    }\n",
       "  })({\"config\": {\"view\": {\"continuousWidth\": 400, \"continuousHeight\": 300}}, \"data\": {\"url\": \"altair-data-b2fe8fb5616f2f0ec61f01d320bf8001.json\", \"format\": {\"type\": \"json\"}}, \"mark\": \"circle\", \"encoding\": {\"x\": {\"type\": \"quantitative\", \"aggregate\": \"count\", \"field\": \"index\", \"title\": \"cast count\"}, \"y\": {\"type\": \"nominal\", \"field\": \"index\", \"sort\": [\"Rogue One\", \"Finding Dory\", \"Captain America: Civil War\", \"The Secret Life of Pets\", \"The Jungle Book\", \"Deadpool\", \"Zootopia\", \"Batman v Superman: Dawn of Justice\", \"Suicide Squad\", \"Sing\", \"Moana\", \"Fantastic Beasts and Where to Find Them\", \"Doctor Strange\", \"Hidden Figures\", \"Jason Bourne\", \"Star Trek Beyond\", \"X-Men: Apocalypse\", \"Trolls\", \"La La Land\", \"Kung Fu Panda 3\", \"Ghostbusters\", \"Central Intelligence\", \"The Legend of Tarzan\", \"Sully\", \"Bad Moms\", \"The Angry Birds Movie\", \"Independence Day: Resurgence\", \"The Conjuring 2\", \"Arrival\", \"Passengers\", \"Sausage Party\", \"The Magnificent Seven\", \"Ride Along 2\", \"Don't Breathe\", \"Miss Peregrine's Home for Peculiar Children\", \"The Accountant\", \"Teenage Mutant Ninja Turtles: Out of the Shadows\", \"The Purge: Election Year\", \"Alice Through the Looking Glass\", \"Pete's Dragon\", \"The Girl on the Train\", \"Boo! A Madea Halloween\", \"Storks\", \"10 Cloverfield Lane\", \"Lights Out\", \"Hacksaw Ridge\", \"Allegiant\", \"Now You See Me 2\", \"Ice Age: Collision Course\", \"The Boss\"]}}, \"title\": \"Female\", \"transform\": [{\"filter\": \"(((datum.TYPE !== 'Unknown') && (datum.GENDER !== 'Unknown')) && (datum.GENDER !== 'null'))\"}, {\"filter\": \"(datum.GENDER === 'Female')\"}], \"$schema\": \"https://vega.github.io/schema/vega-lite/v4.0.2.json\"}, {\"mode\": \"vega-lite\"});\n",
       "</script>"
      ],
      "text/plain": [
       "alt.Chart(...)"
      ]
     },
     "execution_count": 28,
     "metadata": {},
     "output_type": "execute_result"
    }
   ],
   "source": [
    "circle = m_circle()\n",
    "circle"
   ]
  },
  {
   "cell_type": "code",
   "execution_count": 29,
   "metadata": {
    "deletable": false,
    "editable": false,
    "nbgrader": {
     "checksum": "4110fded6798868f72b43bccdfdea1b5",
     "grade": true,
     "grade_id": "m_circle_test",
     "locked": true,
     "points": 5,
     "schema_version": 1,
     "solution": false
    }
   },
   "outputs": [],
   "source": [
    "#hidden tests are within this cell"
   ]
  },
  {
   "cell_type": "markdown",
   "metadata": {},
   "source": [
    "### 2.3 Increase variables encoded (5 points)\n",
    "Complete the `female_actors` function. Modify the first bar chart encoding the type of the actor with the color of the bar. Your visualization should look like the following (note that we don't have labels yet):\n",
    "<img src=\"assets/alt_enc_2.png\" alt=\"Drawing\" style=\"width: 500px;\"/>\n",
    "\n",
    "- _Partial credit can be granted for each visualization (up to 2 points) if you provide a description of what the missing piece of the function is supposed to do without need for an Altair working version_\n"
   ]
  },
  {
   "cell_type": "code",
   "execution_count": 61,
   "metadata": {
    "deletable": false,
    "nbgrader": {
     "checksum": "6d441eec890aeee56a4bf84d697c40d3",
     "grade": false,
     "grade_id": "female_actors",
     "locked": false,
     "schema_version": 1,
     "solution": true
    }
   },
   "outputs": [],
   "source": [
    "def female_actors():\n",
    "    \"\"\"\n",
    "    return the call to Altair function that uses the bar mark for the variables and the color for the TYPE \n",
    "    \"\"\"\n",
    "    encoding = base.transform_filter(\n",
    "    alt.datum.GENDER == 'Female'\n",
    "    ).encode(\n",
    "        y= alt.Y(\n",
    "            'index:N',\n",
    "            sort= movies_order,\n",
    "            axis=None\n",
    "        ),\n",
    "        x=alt.X('count(index):Q',\n",
    "                title='cast count'),\n",
    "        color=alt.Color('TYPE:N')\n",
    "    )\n",
    "    # YOUR CODE HERE\n",
    "    #raise NotImplementedError()\n",
    "    return encoding.mark_bar().properties(title='Female')"
   ]
  },
  {
   "cell_type": "code",
   "execution_count": 62,
   "metadata": {},
   "outputs": [
    {
     "data": {
      "text/html": [
       "\n",
       "<div id=\"altair-viz-a0f2f7a9021540c09ccf853c73296b78\"></div>\n",
       "<script type=\"text/javascript\">\n",
       "  (function(spec, embedOpt){\n",
       "    const outputDiv = document.getElementById(\"altair-viz-a0f2f7a9021540c09ccf853c73296b78\");\n",
       "    const paths = {\n",
       "      \"vega\": \"https://cdn.jsdelivr.net/npm//vega@5?noext\",\n",
       "      \"vega-lib\": \"https://cdn.jsdelivr.net/npm//vega-lib?noext\",\n",
       "      \"vega-lite\": \"https://cdn.jsdelivr.net/npm//vega-lite@4.0.2?noext\",\n",
       "      \"vega-embed\": \"https://cdn.jsdelivr.net/npm//vega-embed@6?noext\",\n",
       "    };\n",
       "\n",
       "    function loadScript(lib) {\n",
       "      return new Promise(function(resolve, reject) {\n",
       "        var s = document.createElement('script');\n",
       "        s.src = paths[lib];\n",
       "        s.async = true;\n",
       "        s.onload = () => resolve(paths[lib]);\n",
       "        s.onerror = () => reject(`Error loading script: ${paths[lib]}`);\n",
       "        document.getElementsByTagName(\"head\")[0].appendChild(s);\n",
       "      });\n",
       "    }\n",
       "\n",
       "    function showError(err) {\n",
       "      outputDiv.innerHTML = `<div class=\"error\" style=\"color:red;\">${err}</div>`;\n",
       "      throw err;\n",
       "    }\n",
       "\n",
       "    function displayChart(vegaEmbed) {\n",
       "      vegaEmbed(outputDiv, spec, embedOpt)\n",
       "        .catch(err => showError(`Javascript Error: ${err.message}<br>This usually means there's a typo in your chart specification. See the javascript console for the full traceback.`));\n",
       "    }\n",
       "\n",
       "    if(typeof define === \"function\" && define.amd) {\n",
       "      requirejs.config({paths});\n",
       "      require([\"vega-embed\"], displayChart, err => showError(`Error loading script: ${err.message}`));\n",
       "    } else if (typeof vegaEmbed === \"function\") {\n",
       "      displayChart(vegaEmbed);\n",
       "    } else {\n",
       "      loadScript(\"vega\")\n",
       "        .then(() => loadScript(\"vega-lite\"))\n",
       "        .then(() => loadScript(\"vega-embed\"))\n",
       "        .catch(showError)\n",
       "        .then(() => displayChart(vegaEmbed));\n",
       "    }\n",
       "  })({\"config\": {\"view\": {\"continuousWidth\": 400, \"continuousHeight\": 300}}, \"data\": {\"url\": \"altair-data-b2fe8fb5616f2f0ec61f01d320bf8001.json\", \"format\": {\"type\": \"json\"}}, \"mark\": \"bar\", \"encoding\": {\"color\": {\"type\": \"nominal\", \"field\": \"TYPE\"}, \"x\": {\"type\": \"quantitative\", \"aggregate\": \"count\", \"field\": \"index\", \"title\": \"cast count\"}, \"y\": {\"type\": \"nominal\", \"axis\": null, \"field\": \"index\", \"sort\": [\"Rogue One\", \"Finding Dory\", \"Captain America: Civil War\", \"The Secret Life of Pets\", \"The Jungle Book\", \"Deadpool\", \"Zootopia\", \"Batman v Superman: Dawn of Justice\", \"Suicide Squad\", \"Sing\", \"Moana\", \"Fantastic Beasts and Where to Find Them\", \"Doctor Strange\", \"Hidden Figures\", \"Jason Bourne\", \"Star Trek Beyond\", \"X-Men: Apocalypse\", \"Trolls\", \"La La Land\", \"Kung Fu Panda 3\", \"Ghostbusters\", \"Central Intelligence\", \"The Legend of Tarzan\", \"Sully\", \"Bad Moms\", \"The Angry Birds Movie\", \"Independence Day: Resurgence\", \"The Conjuring 2\", \"Arrival\", \"Passengers\", \"Sausage Party\", \"The Magnificent Seven\", \"Ride Along 2\", \"Don't Breathe\", \"Miss Peregrine's Home for Peculiar Children\", \"The Accountant\", \"Teenage Mutant Ninja Turtles: Out of the Shadows\", \"The Purge: Election Year\", \"Alice Through the Looking Glass\", \"Pete's Dragon\", \"The Girl on the Train\", \"Boo! A Madea Halloween\", \"Storks\", \"10 Cloverfield Lane\", \"Lights Out\", \"Hacksaw Ridge\", \"Allegiant\", \"Now You See Me 2\", \"Ice Age: Collision Course\", \"The Boss\"]}}, \"title\": \"Female\", \"transform\": [{\"filter\": \"(((datum.TYPE !== 'Unknown') && (datum.GENDER !== 'Unknown')) && (datum.GENDER !== 'null'))\"}, {\"filter\": \"(datum.GENDER === 'Female')\"}], \"$schema\": \"https://vega.github.io/schema/vega-lite/v4.0.2.json\"}, {\"mode\": \"vega-lite\"});\n",
       "</script>"
      ],
      "text/plain": [
       "alt.Chart(...)"
      ]
     },
     "execution_count": 62,
     "metadata": {},
     "output_type": "execute_result"
    }
   ],
   "source": [
    "female = female_actors()\n",
    "female"
   ]
  },
  {
   "cell_type": "code",
   "execution_count": 63,
   "metadata": {
    "deletable": false,
    "editable": false,
    "nbgrader": {
     "checksum": "3e97b28817bc8728a40f885a3e0f5293",
     "grade": true,
     "grade_id": "female_actors_test",
     "locked": true,
     "points": 5,
     "schema_version": 1,
     "solution": false
    }
   },
   "outputs": [],
   "source": [
    "#hidden tests are within this cell"
   ]
  },
  {
   "cell_type": "markdown",
   "metadata": {},
   "source": [
    "### 2.4 Change filter transform (5 points)\n",
    "Complete the male_actors function, modify the previous visualization so that the actors visualized have Male gender. Use the Altair transform function for this, not Pandas\n",
    "<img src=\"assets/alt_enc_3.png\" alt=\"Drawing\" style=\"width: 500px;\"/>\n",
    "\n",
    "- _Partial credit can be granted for each visualization (up to 2 points) if you provide a description of what the missing piece of the function is supposed to do without need for an altair working version_"
   ]
  },
  {
   "cell_type": "code",
   "execution_count": 64,
   "metadata": {
    "deletable": false,
    "nbgrader": {
     "checksum": "5a37ceaaebfa78de092382d3e608e5df",
     "grade": false,
     "grade_id": "male_actors",
     "locked": false,
     "schema_version": 1,
     "solution": true
    }
   },
   "outputs": [],
   "source": [
    "def male_actors():\n",
    "    \"\"\"\n",
    "    return the call to altair function that uses the bar mark for the variables and the color for the TYPE \n",
    "    this function filters the actors to be male\n",
    "    \"\"\"\n",
    "    #add filter transform\n",
    "    \n",
    "    # This is the starting point. Again, modify or replace this code to get the encoding we describe above\n",
    "    encoding =  base.transform_filter(\n",
    "    alt.datum.GENDER == 'Male'\n",
    "    ).encode(\n",
    "            y= alt.Y(\n",
    "            'index:N',\n",
    "            sort= movies_order\n",
    "        ),\n",
    "        x=alt.X('count(index):Q',\n",
    "                sort='descending',\n",
    "                title='cast count'),\n",
    "          color=alt.Color('TYPE:N')\n",
    "    ).mark_bar().properties(title='Male')\n",
    "    \n",
    "    # YOUR CODE HERE\n",
    "    #raise NotImplementedError()\n",
    "    \n",
    "    return encoding.mark_bar().properties(title='Male')"
   ]
  },
  {
   "cell_type": "code",
   "execution_count": 65,
   "metadata": {},
   "outputs": [
    {
     "data": {
      "text/html": [
       "\n",
       "<div id=\"altair-viz-58749890912244a19d8013ad7f1a4b0c\"></div>\n",
       "<script type=\"text/javascript\">\n",
       "  (function(spec, embedOpt){\n",
       "    const outputDiv = document.getElementById(\"altair-viz-58749890912244a19d8013ad7f1a4b0c\");\n",
       "    const paths = {\n",
       "      \"vega\": \"https://cdn.jsdelivr.net/npm//vega@5?noext\",\n",
       "      \"vega-lib\": \"https://cdn.jsdelivr.net/npm//vega-lib?noext\",\n",
       "      \"vega-lite\": \"https://cdn.jsdelivr.net/npm//vega-lite@4.0.2?noext\",\n",
       "      \"vega-embed\": \"https://cdn.jsdelivr.net/npm//vega-embed@6?noext\",\n",
       "    };\n",
       "\n",
       "    function loadScript(lib) {\n",
       "      return new Promise(function(resolve, reject) {\n",
       "        var s = document.createElement('script');\n",
       "        s.src = paths[lib];\n",
       "        s.async = true;\n",
       "        s.onload = () => resolve(paths[lib]);\n",
       "        s.onerror = () => reject(`Error loading script: ${paths[lib]}`);\n",
       "        document.getElementsByTagName(\"head\")[0].appendChild(s);\n",
       "      });\n",
       "    }\n",
       "\n",
       "    function showError(err) {\n",
       "      outputDiv.innerHTML = `<div class=\"error\" style=\"color:red;\">${err}</div>`;\n",
       "      throw err;\n",
       "    }\n",
       "\n",
       "    function displayChart(vegaEmbed) {\n",
       "      vegaEmbed(outputDiv, spec, embedOpt)\n",
       "        .catch(err => showError(`Javascript Error: ${err.message}<br>This usually means there's a typo in your chart specification. See the javascript console for the full traceback.`));\n",
       "    }\n",
       "\n",
       "    if(typeof define === \"function\" && define.amd) {\n",
       "      requirejs.config({paths});\n",
       "      require([\"vega-embed\"], displayChart, err => showError(`Error loading script: ${err.message}`));\n",
       "    } else if (typeof vegaEmbed === \"function\") {\n",
       "      displayChart(vegaEmbed);\n",
       "    } else {\n",
       "      loadScript(\"vega\")\n",
       "        .then(() => loadScript(\"vega-lite\"))\n",
       "        .then(() => loadScript(\"vega-embed\"))\n",
       "        .catch(showError)\n",
       "        .then(() => displayChart(vegaEmbed));\n",
       "    }\n",
       "  })({\"config\": {\"view\": {\"continuousWidth\": 400, \"continuousHeight\": 300}}, \"data\": {\"url\": \"altair-data-b2fe8fb5616f2f0ec61f01d320bf8001.json\", \"format\": {\"type\": \"json\"}}, \"mark\": \"bar\", \"encoding\": {\"color\": {\"type\": \"nominal\", \"field\": \"TYPE\"}, \"x\": {\"type\": \"quantitative\", \"aggregate\": \"count\", \"field\": \"index\", \"sort\": \"descending\", \"title\": \"cast count\"}, \"y\": {\"type\": \"nominal\", \"field\": \"index\", \"sort\": [\"Rogue One\", \"Finding Dory\", \"Captain America: Civil War\", \"The Secret Life of Pets\", \"The Jungle Book\", \"Deadpool\", \"Zootopia\", \"Batman v Superman: Dawn of Justice\", \"Suicide Squad\", \"Sing\", \"Moana\", \"Fantastic Beasts and Where to Find Them\", \"Doctor Strange\", \"Hidden Figures\", \"Jason Bourne\", \"Star Trek Beyond\", \"X-Men: Apocalypse\", \"Trolls\", \"La La Land\", \"Kung Fu Panda 3\", \"Ghostbusters\", \"Central Intelligence\", \"The Legend of Tarzan\", \"Sully\", \"Bad Moms\", \"The Angry Birds Movie\", \"Independence Day: Resurgence\", \"The Conjuring 2\", \"Arrival\", \"Passengers\", \"Sausage Party\", \"The Magnificent Seven\", \"Ride Along 2\", \"Don't Breathe\", \"Miss Peregrine's Home for Peculiar Children\", \"The Accountant\", \"Teenage Mutant Ninja Turtles: Out of the Shadows\", \"The Purge: Election Year\", \"Alice Through the Looking Glass\", \"Pete's Dragon\", \"The Girl on the Train\", \"Boo! A Madea Halloween\", \"Storks\", \"10 Cloverfield Lane\", \"Lights Out\", \"Hacksaw Ridge\", \"Allegiant\", \"Now You See Me 2\", \"Ice Age: Collision Course\", \"The Boss\"]}}, \"title\": \"Male\", \"transform\": [{\"filter\": \"(((datum.TYPE !== 'Unknown') && (datum.GENDER !== 'Unknown')) && (datum.GENDER !== 'null'))\"}, {\"filter\": \"(datum.GENDER === 'Male')\"}], \"$schema\": \"https://vega.github.io/schema/vega-lite/v4.0.2.json\"}, {\"mode\": \"vega-lite\"});\n",
       "</script>"
      ],
      "text/plain": [
       "alt.Chart(...)"
      ]
     },
     "execution_count": 65,
     "metadata": {},
     "output_type": "execute_result"
    }
   ],
   "source": [
    "male = male_actors()\n",
    "male"
   ]
  },
  {
   "cell_type": "code",
   "execution_count": 66,
   "metadata": {
    "deletable": false,
    "editable": false,
    "nbgrader": {
     "checksum": "0779b1ead6032a632eb159c7d24ca452",
     "grade": true,
     "grade_id": "male_actors_test",
     "locked": true,
     "points": 5,
     "schema_version": 1,
     "solution": false
    }
   },
   "outputs": [],
   "source": [
    "#hidden tests are within this cell"
   ]
  },
  {
   "cell_type": "markdown",
   "metadata": {},
   "source": [
    "### 2.5 Variables encoded 2 (5 points)\n",
    "Complete the `variables_encoded_2` function.\n",
    "Return the number of variables encoded in the following plot (again, something like `return 5000;`... we're using this for automated testing). If you have been able to complete the previous examples, the plot should look like this\n",
    "<img src=\"assets/visualization.png\" alt=\"Drawing\" style=\"width: 500px;\"/>"
   ]
  },
  {
   "cell_type": "code",
   "execution_count": 67,
   "metadata": {},
   "outputs": [
    {
     "data": {
      "text/html": [
       "\n",
       "<div id=\"altair-viz-e14dfbc953414291bffb2a1adff04813\"></div>\n",
       "<script type=\"text/javascript\">\n",
       "  (function(spec, embedOpt){\n",
       "    const outputDiv = document.getElementById(\"altair-viz-e14dfbc953414291bffb2a1adff04813\");\n",
       "    const paths = {\n",
       "      \"vega\": \"https://cdn.jsdelivr.net/npm//vega@5?noext\",\n",
       "      \"vega-lib\": \"https://cdn.jsdelivr.net/npm//vega-lib?noext\",\n",
       "      \"vega-lite\": \"https://cdn.jsdelivr.net/npm//vega-lite@4.0.2?noext\",\n",
       "      \"vega-embed\": \"https://cdn.jsdelivr.net/npm//vega-embed@6?noext\",\n",
       "    };\n",
       "\n",
       "    function loadScript(lib) {\n",
       "      return new Promise(function(resolve, reject) {\n",
       "        var s = document.createElement('script');\n",
       "        s.src = paths[lib];\n",
       "        s.async = true;\n",
       "        s.onload = () => resolve(paths[lib]);\n",
       "        s.onerror = () => reject(`Error loading script: ${paths[lib]}`);\n",
       "        document.getElementsByTagName(\"head\")[0].appendChild(s);\n",
       "      });\n",
       "    }\n",
       "\n",
       "    function showError(err) {\n",
       "      outputDiv.innerHTML = `<div class=\"error\" style=\"color:red;\">${err}</div>`;\n",
       "      throw err;\n",
       "    }\n",
       "\n",
       "    function displayChart(vegaEmbed) {\n",
       "      vegaEmbed(outputDiv, spec, embedOpt)\n",
       "        .catch(err => showError(`Javascript Error: ${err.message}<br>This usually means there's a typo in your chart specification. See the javascript console for the full traceback.`));\n",
       "    }\n",
       "\n",
       "    if(typeof define === \"function\" && define.amd) {\n",
       "      requirejs.config({paths});\n",
       "      require([\"vega-embed\"], displayChart, err => showError(`Error loading script: ${err.message}`));\n",
       "    } else if (typeof vegaEmbed === \"function\") {\n",
       "      displayChart(vegaEmbed);\n",
       "    } else {\n",
       "      loadScript(\"vega\")\n",
       "        .then(() => loadScript(\"vega-lite\"))\n",
       "        .then(() => loadScript(\"vega-embed\"))\n",
       "        .catch(showError)\n",
       "        .then(() => displayChart(vegaEmbed));\n",
       "    }\n",
       "  })({\"config\": {\"view\": {\"continuousWidth\": 400, \"continuousHeight\": 300}}, \"hconcat\": [{\"mark\": \"bar\", \"encoding\": {\"color\": {\"type\": \"nominal\", \"field\": \"TYPE\"}, \"x\": {\"type\": \"quantitative\", \"aggregate\": \"count\", \"field\": \"index\", \"sort\": \"descending\", \"title\": \"cast count\"}, \"y\": {\"type\": \"nominal\", \"field\": \"index\", \"sort\": [\"Rogue One\", \"Finding Dory\", \"Captain America: Civil War\", \"The Secret Life of Pets\", \"The Jungle Book\", \"Deadpool\", \"Zootopia\", \"Batman v Superman: Dawn of Justice\", \"Suicide Squad\", \"Sing\", \"Moana\", \"Fantastic Beasts and Where to Find Them\", \"Doctor Strange\", \"Hidden Figures\", \"Jason Bourne\", \"Star Trek Beyond\", \"X-Men: Apocalypse\", \"Trolls\", \"La La Land\", \"Kung Fu Panda 3\", \"Ghostbusters\", \"Central Intelligence\", \"The Legend of Tarzan\", \"Sully\", \"Bad Moms\", \"The Angry Birds Movie\", \"Independence Day: Resurgence\", \"The Conjuring 2\", \"Arrival\", \"Passengers\", \"Sausage Party\", \"The Magnificent Seven\", \"Ride Along 2\", \"Don't Breathe\", \"Miss Peregrine's Home for Peculiar Children\", \"The Accountant\", \"Teenage Mutant Ninja Turtles: Out of the Shadows\", \"The Purge: Election Year\", \"Alice Through the Looking Glass\", \"Pete's Dragon\", \"The Girl on the Train\", \"Boo! A Madea Halloween\", \"Storks\", \"10 Cloverfield Lane\", \"Lights Out\", \"Hacksaw Ridge\", \"Allegiant\", \"Now You See Me 2\", \"Ice Age: Collision Course\", \"The Boss\"]}}, \"title\": \"Male\", \"transform\": [{\"filter\": \"(((datum.TYPE !== 'Unknown') && (datum.GENDER !== 'Unknown')) && (datum.GENDER !== 'null'))\"}, {\"filter\": \"(datum.GENDER === 'Male')\"}]}, {\"mark\": \"text\", \"encoding\": {\"color\": {\"type\": \"nominal\", \"field\": \"bechdel\"}, \"text\": {\"type\": \"quantitative\", \"field\": \"Rank\"}, \"y\": {\"type\": \"ordinal\", \"axis\": null, \"field\": \"Rank\"}}, \"transform\": [{\"filter\": \"(((datum.TYPE !== 'Unknown') && (datum.GENDER !== 'Unknown')) && (datum.GENDER !== 'null'))\"}], \"width\": 20}, {\"mark\": \"bar\", \"encoding\": {\"color\": {\"type\": \"nominal\", \"field\": \"TYPE\"}, \"x\": {\"type\": \"quantitative\", \"aggregate\": \"count\", \"field\": \"index\", \"title\": \"cast count\"}, \"y\": {\"type\": \"nominal\", \"axis\": null, \"field\": \"index\", \"sort\": [\"Rogue One\", \"Finding Dory\", \"Captain America: Civil War\", \"The Secret Life of Pets\", \"The Jungle Book\", \"Deadpool\", \"Zootopia\", \"Batman v Superman: Dawn of Justice\", \"Suicide Squad\", \"Sing\", \"Moana\", \"Fantastic Beasts and Where to Find Them\", \"Doctor Strange\", \"Hidden Figures\", \"Jason Bourne\", \"Star Trek Beyond\", \"X-Men: Apocalypse\", \"Trolls\", \"La La Land\", \"Kung Fu Panda 3\", \"Ghostbusters\", \"Central Intelligence\", \"The Legend of Tarzan\", \"Sully\", \"Bad Moms\", \"The Angry Birds Movie\", \"Independence Day: Resurgence\", \"The Conjuring 2\", \"Arrival\", \"Passengers\", \"Sausage Party\", \"The Magnificent Seven\", \"Ride Along 2\", \"Don't Breathe\", \"Miss Peregrine's Home for Peculiar Children\", \"The Accountant\", \"Teenage Mutant Ninja Turtles: Out of the Shadows\", \"The Purge: Election Year\", \"Alice Through the Looking Glass\", \"Pete's Dragon\", \"The Girl on the Train\", \"Boo! A Madea Halloween\", \"Storks\", \"10 Cloverfield Lane\", \"Lights Out\", \"Hacksaw Ridge\", \"Allegiant\", \"Now You See Me 2\", \"Ice Age: Collision Course\", \"The Boss\"]}}, \"title\": \"Female\", \"transform\": [{\"filter\": \"(((datum.TYPE !== 'Unknown') && (datum.GENDER !== 'Unknown')) && (datum.GENDER !== 'null'))\"}, {\"filter\": \"(datum.GENDER === 'Female')\"}]}], \"data\": {\"url\": \"altair-data-b2fe8fb5616f2f0ec61f01d320bf8001.json\", \"format\": {\"type\": \"json\"}}, \"$schema\": \"https://vega.github.io/schema/vega-lite/v4.0.2.json\"}, {\"mode\": \"vega-lite\"});\n",
       "</script>"
      ],
      "text/plain": [
       "alt.HConcatChart(...)"
      ]
     },
     "execution_count": 67,
     "metadata": {},
     "output_type": "execute_result"
    }
   ],
   "source": [
    "middle = base.encode(\n",
    "    y=alt.Y('Rank:O', axis=None),\n",
    "    text=alt.Text('Rank:Q'),\n",
    "    color=alt.Color('bechdel:N')\n",
    ").mark_text().properties(width=20)\n",
    "\n",
    "# merge together the three charts, male, middle, female\n",
    "male | middle | female"
   ]
  },
  {
   "cell_type": "code",
   "execution_count": 37,
   "metadata": {
    "deletable": false,
    "nbgrader": {
     "checksum": "602b60ddc3171537ab07047a3f8a8cbb",
     "grade": false,
     "grade_id": "variables_encoded_2",
     "locked": false,
     "schema_version": 1,
     "solution": true
    }
   },
   "outputs": [],
   "source": [
    "def variables_encoded_2():\n",
    "    \"\"\"\n",
    "    return the number of variables encoded in the given example\n",
    "    \"\"\"\n",
    "    return 4;\n",
    "    #raise NotImplementedError()"
   ]
  },
  {
   "cell_type": "code",
   "execution_count": 38,
   "metadata": {
    "deletable": false,
    "editable": false,
    "nbgrader": {
     "checksum": "5a227fc538e27371422c2cafe7447289",
     "grade": true,
     "grade_id": "variables_encoded_2_test",
     "locked": true,
     "points": 5,
     "schema_version": 1,
     "solution": false
    }
   },
   "outputs": [],
   "source": [
    "#hidden tests are within this cell"
   ]
  },
  {
   "cell_type": "markdown",
   "metadata": {},
   "source": [
    "### 2.6 Alternative encoding 1 (20 Points)\n",
    "Create a new visualization within the `alternative_encoding_one` function with the following encoding:\n",
    "- Use circles as the mark\n",
    "- Use the scale of the circles to encode the number of actors on each category\n",
    "- Use the y position of the circle to encode the movie\n",
    "- Use the x position of the circle to encode the type of actor\n",
    "- Use the color of the circle to encode the gender of the actor\n",
    "- Match the styling of the example\n",
    "<img src=\"assets/visualization_2.png\" alt=\"Drawing\" style=\"width: 500px;\"/>\n",
    "\n",
    "- _Partial credit can be granted for each visualization (up to 5 points) if you provide a description of what the missing piece of the function is supposed to do_"
   ]
  },
  {
   "cell_type": "code",
   "execution_count": 39,
   "metadata": {
    "deletable": false,
    "nbgrader": {
     "checksum": "5fc7614b9c9cefc1f70a0bceb231ea10",
     "grade": false,
     "grade_id": "alternative_encoding_one",
     "locked": false,
     "schema_version": 1,
     "solution": true
    }
   },
   "outputs": [],
   "source": [
    "def alternative_encoding_one():\n",
    "    \"\"\"\n",
    "    return call to altair function for the new visualization\n",
    "    \"\"\"\n",
    "    \n",
    "    \n",
    "    plot = base.mark_circle(\n",
    "       opacity=0.8,\n",
    "       stroke='black',\n",
    "       strokeWidth=1\n",
    "    ).encode(\n",
    "        y = alt.Y('index:N',\n",
    "              sort= movies_order),\n",
    "       \n",
    "         x=alt.X('TYPE:N',\n",
    "                #sort='descending',\n",
    "                title='cast count'),\n",
    "          color=alt.Color('GENDER:N'),\n",
    "        \n",
    "        size =alt.Size('count(index):Q',\n",
    "        scale=alt.Scale(range=[0, 4000]),\n",
    "        legend=alt.Legend(title='Count of actors', symbolFillColor = 'white'))).properties(\n",
    "        width=350,\n",
    "        height=880\n",
    "    )\n",
    "    # YOUR CODE HERE\n",
    "    #raise NotImplementedError()\n",
    "    return plot"
   ]
  },
  {
   "cell_type": "code",
   "execution_count": 40,
   "metadata": {},
   "outputs": [
    {
     "data": {
      "text/html": [
       "\n",
       "<div id=\"altair-viz-8e2ad3cc1cc14fb5ac5bd9ac9d18a21f\"></div>\n",
       "<script type=\"text/javascript\">\n",
       "  (function(spec, embedOpt){\n",
       "    const outputDiv = document.getElementById(\"altair-viz-8e2ad3cc1cc14fb5ac5bd9ac9d18a21f\");\n",
       "    const paths = {\n",
       "      \"vega\": \"https://cdn.jsdelivr.net/npm//vega@5?noext\",\n",
       "      \"vega-lib\": \"https://cdn.jsdelivr.net/npm//vega-lib?noext\",\n",
       "      \"vega-lite\": \"https://cdn.jsdelivr.net/npm//vega-lite@4.0.2?noext\",\n",
       "      \"vega-embed\": \"https://cdn.jsdelivr.net/npm//vega-embed@6?noext\",\n",
       "    };\n",
       "\n",
       "    function loadScript(lib) {\n",
       "      return new Promise(function(resolve, reject) {\n",
       "        var s = document.createElement('script');\n",
       "        s.src = paths[lib];\n",
       "        s.async = true;\n",
       "        s.onload = () => resolve(paths[lib]);\n",
       "        s.onerror = () => reject(`Error loading script: ${paths[lib]}`);\n",
       "        document.getElementsByTagName(\"head\")[0].appendChild(s);\n",
       "      });\n",
       "    }\n",
       "\n",
       "    function showError(err) {\n",
       "      outputDiv.innerHTML = `<div class=\"error\" style=\"color:red;\">${err}</div>`;\n",
       "      throw err;\n",
       "    }\n",
       "\n",
       "    function displayChart(vegaEmbed) {\n",
       "      vegaEmbed(outputDiv, spec, embedOpt)\n",
       "        .catch(err => showError(`Javascript Error: ${err.message}<br>This usually means there's a typo in your chart specification. See the javascript console for the full traceback.`));\n",
       "    }\n",
       "\n",
       "    if(typeof define === \"function\" && define.amd) {\n",
       "      requirejs.config({paths});\n",
       "      require([\"vega-embed\"], displayChart, err => showError(`Error loading script: ${err.message}`));\n",
       "    } else if (typeof vegaEmbed === \"function\") {\n",
       "      displayChart(vegaEmbed);\n",
       "    } else {\n",
       "      loadScript(\"vega\")\n",
       "        .then(() => loadScript(\"vega-lite\"))\n",
       "        .then(() => loadScript(\"vega-embed\"))\n",
       "        .catch(showError)\n",
       "        .then(() => displayChart(vegaEmbed));\n",
       "    }\n",
       "  })({\"config\": {\"view\": {\"continuousWidth\": 400, \"continuousHeight\": 300}}, \"hconcat\": [{\"mark\": \"text\", \"encoding\": {\"color\": {\"type\": \"nominal\", \"field\": \"bechdel\"}, \"text\": {\"type\": \"quantitative\", \"field\": \"Rank\"}, \"y\": {\"type\": \"ordinal\", \"axis\": null, \"field\": \"Rank\"}}, \"transform\": [{\"filter\": \"(((datum.TYPE !== 'Unknown') && (datum.GENDER !== 'Unknown')) && (datum.GENDER !== 'null'))\"}], \"width\": 20}, {\"mark\": {\"type\": \"circle\", \"opacity\": 0.8, \"stroke\": \"black\", \"strokeWidth\": 1}, \"encoding\": {\"color\": {\"type\": \"nominal\", \"field\": \"GENDER\"}, \"size\": {\"type\": \"quantitative\", \"aggregate\": \"count\", \"field\": \"index\", \"legend\": {\"symbolFillColor\": \"white\", \"title\": \"Count of actors\"}, \"scale\": {\"range\": [0, 4000]}}, \"x\": {\"type\": \"nominal\", \"field\": \"TYPE\", \"title\": \"cast count\"}, \"y\": {\"type\": \"nominal\", \"field\": \"index\", \"sort\": [\"Rogue One\", \"Finding Dory\", \"Captain America: Civil War\", \"The Secret Life of Pets\", \"The Jungle Book\", \"Deadpool\", \"Zootopia\", \"Batman v Superman: Dawn of Justice\", \"Suicide Squad\", \"Sing\", \"Moana\", \"Fantastic Beasts and Where to Find Them\", \"Doctor Strange\", \"Hidden Figures\", \"Jason Bourne\", \"Star Trek Beyond\", \"X-Men: Apocalypse\", \"Trolls\", \"La La Land\", \"Kung Fu Panda 3\", \"Ghostbusters\", \"Central Intelligence\", \"The Legend of Tarzan\", \"Sully\", \"Bad Moms\", \"The Angry Birds Movie\", \"Independence Day: Resurgence\", \"The Conjuring 2\", \"Arrival\", \"Passengers\", \"Sausage Party\", \"The Magnificent Seven\", \"Ride Along 2\", \"Don't Breathe\", \"Miss Peregrine's Home for Peculiar Children\", \"The Accountant\", \"Teenage Mutant Ninja Turtles: Out of the Shadows\", \"The Purge: Election Year\", \"Alice Through the Looking Glass\", \"Pete's Dragon\", \"The Girl on the Train\", \"Boo! A Madea Halloween\", \"Storks\", \"10 Cloverfield Lane\", \"Lights Out\", \"Hacksaw Ridge\", \"Allegiant\", \"Now You See Me 2\", \"Ice Age: Collision Course\", \"The Boss\"]}}, \"height\": 880, \"transform\": [{\"filter\": \"(((datum.TYPE !== 'Unknown') && (datum.GENDER !== 'Unknown')) && (datum.GENDER !== 'null'))\"}], \"width\": 350}], \"data\": {\"url\": \"altair-data-b2fe8fb5616f2f0ec61f01d320bf8001.json\", \"format\": {\"type\": \"json\"}}, \"$schema\": \"https://vega.github.io/schema/vega-lite/v4.0.2.json\"}, {\"mode\": \"vega-lite\"});\n",
       "</script>"
      ],
      "text/plain": [
       "alt.HConcatChart(...)"
      ]
     },
     "execution_count": 40,
     "metadata": {},
     "output_type": "execute_result"
    }
   ],
   "source": [
    "al_enc_one = alternative_encoding_one()\n",
    "middle | al_enc_one"
   ]
  },
  {
   "cell_type": "code",
   "execution_count": 41,
   "metadata": {
    "deletable": false,
    "editable": false,
    "nbgrader": {
     "checksum": "dc906927e705b0eabc736ab9423f76bd",
     "grade": true,
     "grade_id": "alternative_encoding_one_test",
     "locked": true,
     "points": 20,
     "schema_version": 1,
     "solution": false
    }
   },
   "outputs": [],
   "source": [
    "#hidden tests are within this cell"
   ]
  },
  {
   "cell_type": "markdown",
   "metadata": {},
   "source": [
    "### 2.7 Alternative encoding 2 (25 Points)\n",
    "complete `female_actors_1()` and `male_actors_2()` functions to create a new visualization with the following encoding:\n",
    "- The left and right plot should filter male and female actors\n",
    "- Use rectangles as the mark\n",
    "- Use the text inside each rectangle to encode the count of actors one each category (gender, type and movie)\n",
    "- Use the y position of the rectangle to encode the movie\n",
    "- Use the x position of the rectangle to encode the type of actor\n",
    "- Use the color of the rectangle to encode whether that movie passes the Bechdel test or not (bechdel variable)\n",
    "<img src=\"assets/visualization_3.png\" alt=\"Drawing\" style=\"width: 500px;\"/>\n",
    "\n",
    "- _Partial credit can be granted for each visualization (up to 4 points for each function) if you provide a description of what the missing piece of the function is supposed to do without need for an Altair working version_"
   ]
  },
  {
   "cell_type": "code",
   "execution_count": 44,
   "metadata": {
    "deletable": false,
    "nbgrader": {
     "checksum": "5418138ca2d88b9180893acd3cb94b7d",
     "grade": false,
     "grade_id": "female_actors_1",
     "locked": false,
     "schema_version": 1,
     "solution": true
    }
   },
   "outputs": [],
   "source": [
    "def female_actors_1():\n",
    "    \"\"\"\n",
    "    return call to altair function for the new visualization\n",
    "    \"\"\"\n",
    "    #add filter transform\n",
    "    plot = base.mark_rect().encode(\n",
    "        alt.X('TYPE:N'),\n",
    "        alt.Y('index:N',\n",
    "        sort= movies_order),\n",
    "        color=alt.Color('bechdel:N'),\n",
    "        text='count(index):Q'\n",
    "    ).transform_filter(\n",
    "    alt.datum.GENDER == 'Female')\n",
    "    \n",
    "    \n",
    "    \n",
    "    #add filter transform\n",
    "    text = base.mark_text(baseline='middle').encode(\n",
    "        x='TYPE:O',\n",
    "        y= alt.Y(\n",
    "            'index:O',\n",
    "            sort= movies_order,\n",
    "             axis=None\n",
    "        ),\n",
    "        #change this\n",
    "        text='count(index):Q'\n",
    "    ).transform_filter(\n",
    "    alt.datum.GENDER == 'Female')\n",
    "    # YOUR CODE HERE\n",
    "    #raise NotImplementedError()\n",
    "    return plot + text"
   ]
  },
  {
   "cell_type": "code",
   "execution_count": 45,
   "metadata": {},
   "outputs": [
    {
     "data": {
      "text/html": [
       "\n",
       "<div id=\"altair-viz-cbdc626fddd74fa8adbfe4fd765c5e1a\"></div>\n",
       "<script type=\"text/javascript\">\n",
       "  (function(spec, embedOpt){\n",
       "    const outputDiv = document.getElementById(\"altair-viz-cbdc626fddd74fa8adbfe4fd765c5e1a\");\n",
       "    const paths = {\n",
       "      \"vega\": \"https://cdn.jsdelivr.net/npm//vega@5?noext\",\n",
       "      \"vega-lib\": \"https://cdn.jsdelivr.net/npm//vega-lib?noext\",\n",
       "      \"vega-lite\": \"https://cdn.jsdelivr.net/npm//vega-lite@4.0.2?noext\",\n",
       "      \"vega-embed\": \"https://cdn.jsdelivr.net/npm//vega-embed@6?noext\",\n",
       "    };\n",
       "\n",
       "    function loadScript(lib) {\n",
       "      return new Promise(function(resolve, reject) {\n",
       "        var s = document.createElement('script');\n",
       "        s.src = paths[lib];\n",
       "        s.async = true;\n",
       "        s.onload = () => resolve(paths[lib]);\n",
       "        s.onerror = () => reject(`Error loading script: ${paths[lib]}`);\n",
       "        document.getElementsByTagName(\"head\")[0].appendChild(s);\n",
       "      });\n",
       "    }\n",
       "\n",
       "    function showError(err) {\n",
       "      outputDiv.innerHTML = `<div class=\"error\" style=\"color:red;\">${err}</div>`;\n",
       "      throw err;\n",
       "    }\n",
       "\n",
       "    function displayChart(vegaEmbed) {\n",
       "      vegaEmbed(outputDiv, spec, embedOpt)\n",
       "        .catch(err => showError(`Javascript Error: ${err.message}<br>This usually means there's a typo in your chart specification. See the javascript console for the full traceback.`));\n",
       "    }\n",
       "\n",
       "    if(typeof define === \"function\" && define.amd) {\n",
       "      requirejs.config({paths});\n",
       "      require([\"vega-embed\"], displayChart, err => showError(`Error loading script: ${err.message}`));\n",
       "    } else if (typeof vegaEmbed === \"function\") {\n",
       "      displayChart(vegaEmbed);\n",
       "    } else {\n",
       "      loadScript(\"vega\")\n",
       "        .then(() => loadScript(\"vega-lite\"))\n",
       "        .then(() => loadScript(\"vega-embed\"))\n",
       "        .catch(showError)\n",
       "        .then(() => displayChart(vegaEmbed));\n",
       "    }\n",
       "  })({\"config\": {\"view\": {\"continuousWidth\": 400, \"continuousHeight\": 300}}, \"layer\": [{\"mark\": \"rect\", \"encoding\": {\"color\": {\"type\": \"nominal\", \"field\": \"bechdel\"}, \"text\": {\"type\": \"quantitative\", \"aggregate\": \"count\", \"field\": \"index\"}, \"x\": {\"type\": \"nominal\", \"field\": \"TYPE\"}, \"y\": {\"type\": \"nominal\", \"field\": \"index\", \"sort\": [\"Rogue One\", \"Finding Dory\", \"Captain America: Civil War\", \"The Secret Life of Pets\", \"The Jungle Book\", \"Deadpool\", \"Zootopia\", \"Batman v Superman: Dawn of Justice\", \"Suicide Squad\", \"Sing\", \"Moana\", \"Fantastic Beasts and Where to Find Them\", \"Doctor Strange\", \"Hidden Figures\", \"Jason Bourne\", \"Star Trek Beyond\", \"X-Men: Apocalypse\", \"Trolls\", \"La La Land\", \"Kung Fu Panda 3\", \"Ghostbusters\", \"Central Intelligence\", \"The Legend of Tarzan\", \"Sully\", \"Bad Moms\", \"The Angry Birds Movie\", \"Independence Day: Resurgence\", \"The Conjuring 2\", \"Arrival\", \"Passengers\", \"Sausage Party\", \"The Magnificent Seven\", \"Ride Along 2\", \"Don't Breathe\", \"Miss Peregrine's Home for Peculiar Children\", \"The Accountant\", \"Teenage Mutant Ninja Turtles: Out of the Shadows\", \"The Purge: Election Year\", \"Alice Through the Looking Glass\", \"Pete's Dragon\", \"The Girl on the Train\", \"Boo! A Madea Halloween\", \"Storks\", \"10 Cloverfield Lane\", \"Lights Out\", \"Hacksaw Ridge\", \"Allegiant\", \"Now You See Me 2\", \"Ice Age: Collision Course\", \"The Boss\"]}}, \"transform\": [{\"filter\": \"(((datum.TYPE !== 'Unknown') && (datum.GENDER !== 'Unknown')) && (datum.GENDER !== 'null'))\"}, {\"filter\": \"(datum.GENDER === 'Female')\"}]}, {\"mark\": {\"type\": \"text\", \"baseline\": \"middle\"}, \"encoding\": {\"text\": {\"type\": \"quantitative\", \"aggregate\": \"count\", \"field\": \"index\"}, \"x\": {\"type\": \"ordinal\", \"field\": \"TYPE\"}, \"y\": {\"type\": \"ordinal\", \"axis\": null, \"field\": \"index\", \"sort\": [\"Rogue One\", \"Finding Dory\", \"Captain America: Civil War\", \"The Secret Life of Pets\", \"The Jungle Book\", \"Deadpool\", \"Zootopia\", \"Batman v Superman: Dawn of Justice\", \"Suicide Squad\", \"Sing\", \"Moana\", \"Fantastic Beasts and Where to Find Them\", \"Doctor Strange\", \"Hidden Figures\", \"Jason Bourne\", \"Star Trek Beyond\", \"X-Men: Apocalypse\", \"Trolls\", \"La La Land\", \"Kung Fu Panda 3\", \"Ghostbusters\", \"Central Intelligence\", \"The Legend of Tarzan\", \"Sully\", \"Bad Moms\", \"The Angry Birds Movie\", \"Independence Day: Resurgence\", \"The Conjuring 2\", \"Arrival\", \"Passengers\", \"Sausage Party\", \"The Magnificent Seven\", \"Ride Along 2\", \"Don't Breathe\", \"Miss Peregrine's Home for Peculiar Children\", \"The Accountant\", \"Teenage Mutant Ninja Turtles: Out of the Shadows\", \"The Purge: Election Year\", \"Alice Through the Looking Glass\", \"Pete's Dragon\", \"The Girl on the Train\", \"Boo! A Madea Halloween\", \"Storks\", \"10 Cloverfield Lane\", \"Lights Out\", \"Hacksaw Ridge\", \"Allegiant\", \"Now You See Me 2\", \"Ice Age: Collision Course\", \"The Boss\"]}}, \"transform\": [{\"filter\": \"(((datum.TYPE !== 'Unknown') && (datum.GENDER !== 'Unknown')) && (datum.GENDER !== 'null'))\"}, {\"filter\": \"(datum.GENDER === 'Female')\"}]}], \"data\": {\"url\": \"altair-data-b2fe8fb5616f2f0ec61f01d320bf8001.json\", \"format\": {\"type\": \"json\"}}, \"$schema\": \"https://vega.github.io/schema/vega-lite/v4.0.2.json\"}, {\"mode\": \"vega-lite\"});\n",
       "</script>"
      ],
      "text/plain": [
       "alt.LayerChart(...)"
      ]
     },
     "execution_count": 45,
     "metadata": {},
     "output_type": "execute_result"
    }
   ],
   "source": [
    "f_a_1 = female_actors_1()\n",
    "f_a_1"
   ]
  },
  {
   "cell_type": "code",
   "execution_count": 46,
   "metadata": {
    "deletable": false,
    "editable": false,
    "nbgrader": {
     "checksum": "a22195aa5cf8b59e576da5b137740cc6",
     "grade": true,
     "grade_id": "female_actors_1_test",
     "locked": true,
     "points": 12.5,
     "schema_version": 1,
     "solution": false
    }
   },
   "outputs": [],
   "source": [
    "#hidden tests are within this cell"
   ]
  },
  {
   "cell_type": "code",
   "execution_count": 57,
   "metadata": {
    "deletable": false,
    "nbgrader": {
     "checksum": "c743a1867df38e2aadfee3391a06e652",
     "grade": false,
     "grade_id": "male_actors_1",
     "locked": false,
     "schema_version": 1,
     "solution": true
    }
   },
   "outputs": [],
   "source": [
    "def male_actors_1():\n",
    "    \"\"\"\n",
    "    return call to altair function for the new visualization\n",
    "    \"\"\"\n",
    "    #add filter transform\n",
    "    plot = base.mark_rect().encode(\n",
    "        alt.X('TYPE:N'),\n",
    "        alt.Y('index:N',\n",
    "        sort= movies_order, axis = None),\n",
    "        color=alt.Color('bechdel:N'),\n",
    "        text='count(index):Q').transform_filter(\n",
    "        alt.datum.GENDER == 'Male')\n",
    "        # add text and color\n",
    "     \n",
    "    \n",
    "    \n",
    "    #add filter transform\n",
    "    text = base.mark_text(baseline='middle').encode(\n",
    "        x='TYPE:O',\n",
    "        y= alt.Y(\n",
    "            'index:N',\n",
    "            sort= movies_order,\n",
    "             axis=None\n",
    "        ),\n",
    "        #change this\n",
    "        text='count(index):Q'\n",
    "    ).transform_filter(\n",
    "    alt.datum.GENDER == 'Male')\n",
    "    # YOUR CODE HERE\n",
    "    #raise NotImplementedError()\n",
    "    return plot + text"
   ]
  },
  {
   "cell_type": "code",
   "execution_count": 58,
   "metadata": {},
   "outputs": [
    {
     "data": {
      "text/html": [
       "\n",
       "<div id=\"altair-viz-390fca19e2d4478b95544b114817b9f7\"></div>\n",
       "<script type=\"text/javascript\">\n",
       "  (function(spec, embedOpt){\n",
       "    const outputDiv = document.getElementById(\"altair-viz-390fca19e2d4478b95544b114817b9f7\");\n",
       "    const paths = {\n",
       "      \"vega\": \"https://cdn.jsdelivr.net/npm//vega@5?noext\",\n",
       "      \"vega-lib\": \"https://cdn.jsdelivr.net/npm//vega-lib?noext\",\n",
       "      \"vega-lite\": \"https://cdn.jsdelivr.net/npm//vega-lite@4.0.2?noext\",\n",
       "      \"vega-embed\": \"https://cdn.jsdelivr.net/npm//vega-embed@6?noext\",\n",
       "    };\n",
       "\n",
       "    function loadScript(lib) {\n",
       "      return new Promise(function(resolve, reject) {\n",
       "        var s = document.createElement('script');\n",
       "        s.src = paths[lib];\n",
       "        s.async = true;\n",
       "        s.onload = () => resolve(paths[lib]);\n",
       "        s.onerror = () => reject(`Error loading script: ${paths[lib]}`);\n",
       "        document.getElementsByTagName(\"head\")[0].appendChild(s);\n",
       "      });\n",
       "    }\n",
       "\n",
       "    function showError(err) {\n",
       "      outputDiv.innerHTML = `<div class=\"error\" style=\"color:red;\">${err}</div>`;\n",
       "      throw err;\n",
       "    }\n",
       "\n",
       "    function displayChart(vegaEmbed) {\n",
       "      vegaEmbed(outputDiv, spec, embedOpt)\n",
       "        .catch(err => showError(`Javascript Error: ${err.message}<br>This usually means there's a typo in your chart specification. See the javascript console for the full traceback.`));\n",
       "    }\n",
       "\n",
       "    if(typeof define === \"function\" && define.amd) {\n",
       "      requirejs.config({paths});\n",
       "      require([\"vega-embed\"], displayChart, err => showError(`Error loading script: ${err.message}`));\n",
       "    } else if (typeof vegaEmbed === \"function\") {\n",
       "      displayChart(vegaEmbed);\n",
       "    } else {\n",
       "      loadScript(\"vega\")\n",
       "        .then(() => loadScript(\"vega-lite\"))\n",
       "        .then(() => loadScript(\"vega-embed\"))\n",
       "        .catch(showError)\n",
       "        .then(() => displayChart(vegaEmbed));\n",
       "    }\n",
       "  })({\"config\": {\"view\": {\"continuousWidth\": 400, \"continuousHeight\": 300}}, \"layer\": [{\"mark\": \"rect\", \"encoding\": {\"color\": {\"type\": \"nominal\", \"field\": \"bechdel\"}, \"text\": {\"type\": \"quantitative\", \"aggregate\": \"count\", \"field\": \"index\"}, \"x\": {\"type\": \"nominal\", \"field\": \"TYPE\"}, \"y\": {\"type\": \"nominal\", \"axis\": null, \"field\": \"index\", \"sort\": [\"Rogue One\", \"Finding Dory\", \"Captain America: Civil War\", \"The Secret Life of Pets\", \"The Jungle Book\", \"Deadpool\", \"Zootopia\", \"Batman v Superman: Dawn of Justice\", \"Suicide Squad\", \"Sing\", \"Moana\", \"Fantastic Beasts and Where to Find Them\", \"Doctor Strange\", \"Hidden Figures\", \"Jason Bourne\", \"Star Trek Beyond\", \"X-Men: Apocalypse\", \"Trolls\", \"La La Land\", \"Kung Fu Panda 3\", \"Ghostbusters\", \"Central Intelligence\", \"The Legend of Tarzan\", \"Sully\", \"Bad Moms\", \"The Angry Birds Movie\", \"Independence Day: Resurgence\", \"The Conjuring 2\", \"Arrival\", \"Passengers\", \"Sausage Party\", \"The Magnificent Seven\", \"Ride Along 2\", \"Don't Breathe\", \"Miss Peregrine's Home for Peculiar Children\", \"The Accountant\", \"Teenage Mutant Ninja Turtles: Out of the Shadows\", \"The Purge: Election Year\", \"Alice Through the Looking Glass\", \"Pete's Dragon\", \"The Girl on the Train\", \"Boo! A Madea Halloween\", \"Storks\", \"10 Cloverfield Lane\", \"Lights Out\", \"Hacksaw Ridge\", \"Allegiant\", \"Now You See Me 2\", \"Ice Age: Collision Course\", \"The Boss\"]}}, \"transform\": [{\"filter\": \"(((datum.TYPE !== 'Unknown') && (datum.GENDER !== 'Unknown')) && (datum.GENDER !== 'null'))\"}, {\"filter\": \"(datum.GENDER === 'Male')\"}]}, {\"mark\": {\"type\": \"text\", \"baseline\": \"middle\"}, \"encoding\": {\"text\": {\"type\": \"quantitative\", \"aggregate\": \"count\", \"field\": \"index\"}, \"x\": {\"type\": \"ordinal\", \"field\": \"TYPE\"}, \"y\": {\"type\": \"nominal\", \"axis\": null, \"field\": \"index\", \"sort\": [\"Rogue One\", \"Finding Dory\", \"Captain America: Civil War\", \"The Secret Life of Pets\", \"The Jungle Book\", \"Deadpool\", \"Zootopia\", \"Batman v Superman: Dawn of Justice\", \"Suicide Squad\", \"Sing\", \"Moana\", \"Fantastic Beasts and Where to Find Them\", \"Doctor Strange\", \"Hidden Figures\", \"Jason Bourne\", \"Star Trek Beyond\", \"X-Men: Apocalypse\", \"Trolls\", \"La La Land\", \"Kung Fu Panda 3\", \"Ghostbusters\", \"Central Intelligence\", \"The Legend of Tarzan\", \"Sully\", \"Bad Moms\", \"The Angry Birds Movie\", \"Independence Day: Resurgence\", \"The Conjuring 2\", \"Arrival\", \"Passengers\", \"Sausage Party\", \"The Magnificent Seven\", \"Ride Along 2\", \"Don't Breathe\", \"Miss Peregrine's Home for Peculiar Children\", \"The Accountant\", \"Teenage Mutant Ninja Turtles: Out of the Shadows\", \"The Purge: Election Year\", \"Alice Through the Looking Glass\", \"Pete's Dragon\", \"The Girl on the Train\", \"Boo! A Madea Halloween\", \"Storks\", \"10 Cloverfield Lane\", \"Lights Out\", \"Hacksaw Ridge\", \"Allegiant\", \"Now You See Me 2\", \"Ice Age: Collision Course\", \"The Boss\"]}}, \"transform\": [{\"filter\": \"(((datum.TYPE !== 'Unknown') && (datum.GENDER !== 'Unknown')) && (datum.GENDER !== 'null'))\"}, {\"filter\": \"(datum.GENDER === 'Male')\"}]}], \"data\": {\"url\": \"altair-data-b2fe8fb5616f2f0ec61f01d320bf8001.json\", \"format\": {\"type\": \"json\"}}, \"$schema\": \"https://vega.github.io/schema/vega-lite/v4.0.2.json\"}, {\"mode\": \"vega-lite\"});\n",
       "</script>"
      ],
      "text/plain": [
       "alt.LayerChart(...)"
      ]
     },
     "execution_count": 58,
     "metadata": {},
     "output_type": "execute_result"
    }
   ],
   "source": [
    "m_a_1 = male_actors_1()\n",
    "m_a_1"
   ]
  },
  {
   "cell_type": "code",
   "execution_count": 59,
   "metadata": {
    "deletable": false,
    "editable": false,
    "nbgrader": {
     "checksum": "8cd39b65fb20867bc6a8e093e7fec3db",
     "grade": true,
     "grade_id": "male_actors_1_test",
     "locked": true,
     "points": 12.5,
     "schema_version": 1,
     "solution": false
    }
   },
   "outputs": [],
   "source": [
    "#hidden tests are within this cell"
   ]
  },
  {
   "cell_type": "code",
   "execution_count": 60,
   "metadata": {},
   "outputs": [
    {
     "data": {
      "text/html": [
       "\n",
       "<div id=\"altair-viz-5afb497e18ee4ecd84069cd35f4f6b28\"></div>\n",
       "<script type=\"text/javascript\">\n",
       "  (function(spec, embedOpt){\n",
       "    const outputDiv = document.getElementById(\"altair-viz-5afb497e18ee4ecd84069cd35f4f6b28\");\n",
       "    const paths = {\n",
       "      \"vega\": \"https://cdn.jsdelivr.net/npm//vega@5?noext\",\n",
       "      \"vega-lib\": \"https://cdn.jsdelivr.net/npm//vega-lib?noext\",\n",
       "      \"vega-lite\": \"https://cdn.jsdelivr.net/npm//vega-lite@4.0.2?noext\",\n",
       "      \"vega-embed\": \"https://cdn.jsdelivr.net/npm//vega-embed@6?noext\",\n",
       "    };\n",
       "\n",
       "    function loadScript(lib) {\n",
       "      return new Promise(function(resolve, reject) {\n",
       "        var s = document.createElement('script');\n",
       "        s.src = paths[lib];\n",
       "        s.async = true;\n",
       "        s.onload = () => resolve(paths[lib]);\n",
       "        s.onerror = () => reject(`Error loading script: ${paths[lib]}`);\n",
       "        document.getElementsByTagName(\"head\")[0].appendChild(s);\n",
       "      });\n",
       "    }\n",
       "\n",
       "    function showError(err) {\n",
       "      outputDiv.innerHTML = `<div class=\"error\" style=\"color:red;\">${err}</div>`;\n",
       "      throw err;\n",
       "    }\n",
       "\n",
       "    function displayChart(vegaEmbed) {\n",
       "      vegaEmbed(outputDiv, spec, embedOpt)\n",
       "        .catch(err => showError(`Javascript Error: ${err.message}<br>This usually means there's a typo in your chart specification. See the javascript console for the full traceback.`));\n",
       "    }\n",
       "\n",
       "    if(typeof define === \"function\" && define.amd) {\n",
       "      requirejs.config({paths});\n",
       "      require([\"vega-embed\"], displayChart, err => showError(`Error loading script: ${err.message}`));\n",
       "    } else if (typeof vegaEmbed === \"function\") {\n",
       "      displayChart(vegaEmbed);\n",
       "    } else {\n",
       "      loadScript(\"vega\")\n",
       "        .then(() => loadScript(\"vega-lite\"))\n",
       "        .then(() => loadScript(\"vega-embed\"))\n",
       "        .catch(showError)\n",
       "        .then(() => displayChart(vegaEmbed));\n",
       "    }\n",
       "  })({\"config\": {\"view\": {\"continuousWidth\": 400, \"continuousHeight\": 300}}, \"hconcat\": [{\"layer\": [{\"mark\": \"rect\", \"encoding\": {\"color\": {\"type\": \"nominal\", \"field\": \"bechdel\"}, \"text\": {\"type\": \"quantitative\", \"aggregate\": \"count\", \"field\": \"index\"}, \"x\": {\"type\": \"nominal\", \"field\": \"TYPE\"}, \"y\": {\"type\": \"nominal\", \"field\": \"index\", \"sort\": [\"Rogue One\", \"Finding Dory\", \"Captain America: Civil War\", \"The Secret Life of Pets\", \"The Jungle Book\", \"Deadpool\", \"Zootopia\", \"Batman v Superman: Dawn of Justice\", \"Suicide Squad\", \"Sing\", \"Moana\", \"Fantastic Beasts and Where to Find Them\", \"Doctor Strange\", \"Hidden Figures\", \"Jason Bourne\", \"Star Trek Beyond\", \"X-Men: Apocalypse\", \"Trolls\", \"La La Land\", \"Kung Fu Panda 3\", \"Ghostbusters\", \"Central Intelligence\", \"The Legend of Tarzan\", \"Sully\", \"Bad Moms\", \"The Angry Birds Movie\", \"Independence Day: Resurgence\", \"The Conjuring 2\", \"Arrival\", \"Passengers\", \"Sausage Party\", \"The Magnificent Seven\", \"Ride Along 2\", \"Don't Breathe\", \"Miss Peregrine's Home for Peculiar Children\", \"The Accountant\", \"Teenage Mutant Ninja Turtles: Out of the Shadows\", \"The Purge: Election Year\", \"Alice Through the Looking Glass\", \"Pete's Dragon\", \"The Girl on the Train\", \"Boo! A Madea Halloween\", \"Storks\", \"10 Cloverfield Lane\", \"Lights Out\", \"Hacksaw Ridge\", \"Allegiant\", \"Now You See Me 2\", \"Ice Age: Collision Course\", \"The Boss\"]}}, \"transform\": [{\"filter\": \"(((datum.TYPE !== 'Unknown') && (datum.GENDER !== 'Unknown')) && (datum.GENDER !== 'null'))\"}, {\"filter\": \"(datum.GENDER === 'Female')\"}]}, {\"mark\": {\"type\": \"text\", \"baseline\": \"middle\"}, \"encoding\": {\"text\": {\"type\": \"quantitative\", \"aggregate\": \"count\", \"field\": \"index\"}, \"x\": {\"type\": \"ordinal\", \"field\": \"TYPE\"}, \"y\": {\"type\": \"ordinal\", \"axis\": null, \"field\": \"index\", \"sort\": [\"Rogue One\", \"Finding Dory\", \"Captain America: Civil War\", \"The Secret Life of Pets\", \"The Jungle Book\", \"Deadpool\", \"Zootopia\", \"Batman v Superman: Dawn of Justice\", \"Suicide Squad\", \"Sing\", \"Moana\", \"Fantastic Beasts and Where to Find Them\", \"Doctor Strange\", \"Hidden Figures\", \"Jason Bourne\", \"Star Trek Beyond\", \"X-Men: Apocalypse\", \"Trolls\", \"La La Land\", \"Kung Fu Panda 3\", \"Ghostbusters\", \"Central Intelligence\", \"The Legend of Tarzan\", \"Sully\", \"Bad Moms\", \"The Angry Birds Movie\", \"Independence Day: Resurgence\", \"The Conjuring 2\", \"Arrival\", \"Passengers\", \"Sausage Party\", \"The Magnificent Seven\", \"Ride Along 2\", \"Don't Breathe\", \"Miss Peregrine's Home for Peculiar Children\", \"The Accountant\", \"Teenage Mutant Ninja Turtles: Out of the Shadows\", \"The Purge: Election Year\", \"Alice Through the Looking Glass\", \"Pete's Dragon\", \"The Girl on the Train\", \"Boo! A Madea Halloween\", \"Storks\", \"10 Cloverfield Lane\", \"Lights Out\", \"Hacksaw Ridge\", \"Allegiant\", \"Now You See Me 2\", \"Ice Age: Collision Course\", \"The Boss\"]}}, \"transform\": [{\"filter\": \"(((datum.TYPE !== 'Unknown') && (datum.GENDER !== 'Unknown')) && (datum.GENDER !== 'null'))\"}, {\"filter\": \"(datum.GENDER === 'Female')\"}]}]}, {\"mark\": \"text\", \"encoding\": {\"color\": {\"type\": \"nominal\", \"field\": \"bechdel\"}, \"text\": {\"type\": \"quantitative\", \"field\": \"Rank\"}, \"y\": {\"type\": \"ordinal\", \"axis\": null, \"field\": \"Rank\"}}, \"transform\": [{\"filter\": \"(((datum.TYPE !== 'Unknown') && (datum.GENDER !== 'Unknown')) && (datum.GENDER !== 'null'))\"}], \"width\": 20}, {\"layer\": [{\"mark\": \"rect\", \"encoding\": {\"color\": {\"type\": \"nominal\", \"field\": \"bechdel\"}, \"text\": {\"type\": \"quantitative\", \"aggregate\": \"count\", \"field\": \"index\"}, \"x\": {\"type\": \"nominal\", \"field\": \"TYPE\"}, \"y\": {\"type\": \"nominal\", \"axis\": null, \"field\": \"index\", \"sort\": [\"Rogue One\", \"Finding Dory\", \"Captain America: Civil War\", \"The Secret Life of Pets\", \"The Jungle Book\", \"Deadpool\", \"Zootopia\", \"Batman v Superman: Dawn of Justice\", \"Suicide Squad\", \"Sing\", \"Moana\", \"Fantastic Beasts and Where to Find Them\", \"Doctor Strange\", \"Hidden Figures\", \"Jason Bourne\", \"Star Trek Beyond\", \"X-Men: Apocalypse\", \"Trolls\", \"La La Land\", \"Kung Fu Panda 3\", \"Ghostbusters\", \"Central Intelligence\", \"The Legend of Tarzan\", \"Sully\", \"Bad Moms\", \"The Angry Birds Movie\", \"Independence Day: Resurgence\", \"The Conjuring 2\", \"Arrival\", \"Passengers\", \"Sausage Party\", \"The Magnificent Seven\", \"Ride Along 2\", \"Don't Breathe\", \"Miss Peregrine's Home for Peculiar Children\", \"The Accountant\", \"Teenage Mutant Ninja Turtles: Out of the Shadows\", \"The Purge: Election Year\", \"Alice Through the Looking Glass\", \"Pete's Dragon\", \"The Girl on the Train\", \"Boo! A Madea Halloween\", \"Storks\", \"10 Cloverfield Lane\", \"Lights Out\", \"Hacksaw Ridge\", \"Allegiant\", \"Now You See Me 2\", \"Ice Age: Collision Course\", \"The Boss\"]}}, \"transform\": [{\"filter\": \"(((datum.TYPE !== 'Unknown') && (datum.GENDER !== 'Unknown')) && (datum.GENDER !== 'null'))\"}, {\"filter\": \"(datum.GENDER === 'Male')\"}]}, {\"mark\": {\"type\": \"text\", \"baseline\": \"middle\"}, \"encoding\": {\"text\": {\"type\": \"quantitative\", \"aggregate\": \"count\", \"field\": \"index\"}, \"x\": {\"type\": \"ordinal\", \"field\": \"TYPE\"}, \"y\": {\"type\": \"nominal\", \"axis\": null, \"field\": \"index\", \"sort\": [\"Rogue One\", \"Finding Dory\", \"Captain America: Civil War\", \"The Secret Life of Pets\", \"The Jungle Book\", \"Deadpool\", \"Zootopia\", \"Batman v Superman: Dawn of Justice\", \"Suicide Squad\", \"Sing\", \"Moana\", \"Fantastic Beasts and Where to Find Them\", \"Doctor Strange\", \"Hidden Figures\", \"Jason Bourne\", \"Star Trek Beyond\", \"X-Men: Apocalypse\", \"Trolls\", \"La La Land\", \"Kung Fu Panda 3\", \"Ghostbusters\", \"Central Intelligence\", \"The Legend of Tarzan\", \"Sully\", \"Bad Moms\", \"The Angry Birds Movie\", \"Independence Day: Resurgence\", \"The Conjuring 2\", \"Arrival\", \"Passengers\", \"Sausage Party\", \"The Magnificent Seven\", \"Ride Along 2\", \"Don't Breathe\", \"Miss Peregrine's Home for Peculiar Children\", \"The Accountant\", \"Teenage Mutant Ninja Turtles: Out of the Shadows\", \"The Purge: Election Year\", \"Alice Through the Looking Glass\", \"Pete's Dragon\", \"The Girl on the Train\", \"Boo! A Madea Halloween\", \"Storks\", \"10 Cloverfield Lane\", \"Lights Out\", \"Hacksaw Ridge\", \"Allegiant\", \"Now You See Me 2\", \"Ice Age: Collision Course\", \"The Boss\"]}}, \"transform\": [{\"filter\": \"(((datum.TYPE !== 'Unknown') && (datum.GENDER !== 'Unknown')) && (datum.GENDER !== 'null'))\"}, {\"filter\": \"(datum.GENDER === 'Male')\"}]}]}], \"data\": {\"url\": \"altair-data-b2fe8fb5616f2f0ec61f01d320bf8001.json\", \"format\": {\"type\": \"json\"}}, \"$schema\": \"https://vega.github.io/schema/vega-lite/v4.0.2.json\"}, {\"mode\": \"vega-lite\"});\n",
       "</script>"
      ],
      "text/plain": [
       "alt.HConcatChart(...)"
      ]
     },
     "execution_count": 60,
     "metadata": {},
     "output_type": "execute_result"
    }
   ],
   "source": [
    "# create the visualization\n",
    "f_a_1 | middle | m_a_1"
   ]
  },
  {
   "cell_type": "markdown",
   "metadata": {},
   "source": [
    "### 2.8 (Bonus) Compare effectiveness (5 points)\n",
    "Look at the visualization for question 2.7. How does this visualization compare in terms of effectiveness to the visualizations in questions 2.5 and 2.6?"
   ]
  },
  {
   "cell_type": "markdown",
   "metadata": {
    "deletable": false,
    "nbgrader": {
     "checksum": "c8ecdf15b1e94566592eb89935a72128",
     "grade": true,
     "grade_id": "cell-ce75e2176c7151d8",
     "locked": false,
     "points": 0,
     "schema_version": 1,
     "solution": true
    }
   },
   "source": [
    "I believe that the visualization produced for question 2.7 is, arguably, more effective than the vizualizations produced for 2.5 and 2.6. Although they express the same information - namely, count of cast per movie in various roles, encoded by gender and whether or not they passed the bechdel test - it is much easier to glean the relevant quantitative information from 2.7(count of cast in each role, seperated by gender, per movie). While the encoding does somewhat help in terms of bringing out the quantitative information in 2.5 and 2.6, it would take much longer for a new viewer to parse it out. In regards to 2.5, the viewer has to scroll all the way down to the x-axis labels in order to obtain the cast count, and then guide their vision upwards to the relevant bar. In other words, they have to go through a two step process in order to obtain a single value. 2.6 is arguably even worse than 2.5 in this respect, in the sense that it is nearly impossible for the viewer to judge, with exact precision, the count of cast for any movie. While the legend does offer a rough estimate of size to value, it is incredibly easy to misjudge size, and thereby misjudge the value. \n",
    "\n",
    "The only rather glaring issue with the combined visualization in 2.7, is that it's impossible to know which of the two visualizations correspond to which gender. Although it would result in potential visual clutter, if this is something the creator of the graph is attempting to convey, labels above each graph that indicate this information is essential. \n"
   ]
  }
 ],
 "metadata": {
  "coursera": {
   "schema_names": [
    "mads_information_visualization_i_v2_assignment2"
   ]
  },
  "kernelspec": {
   "display_name": "Python 3",
   "language": "python",
   "name": "python3"
  },
  "language_info": {
   "codemirror_mode": {
    "name": "ipython",
    "version": 3
   },
   "file_extension": ".py",
   "mimetype": "text/x-python",
   "name": "python",
   "nbconvert_exporter": "python",
   "pygments_lexer": "ipython3",
   "version": "3.7.3"
  },
  "toc": {
   "colors": {
    "hover_highlight": "#DAA520",
    "running_highlight": "#FF0000",
    "selected_highlight": "#FFD700"
   },
   "moveMenuLeft": true,
   "nav_menu": {
    "height": "390px",
    "width": "252px"
   },
   "navigate_menu": true,
   "number_sections": false,
   "sideBar": true,
   "threshold": 4,
   "toc_cell": false,
   "toc_section_display": "none",
   "toc_window_display": true,
   "widenNotebook": false
  }
 },
 "nbformat": 4,
 "nbformat_minor": 2
}
